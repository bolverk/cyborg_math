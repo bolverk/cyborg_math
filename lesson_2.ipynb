{
 "cells": [
  {
   "cell_type": "code",
   "execution_count": 2,
   "metadata": {},
   "outputs": [],
   "source": [
    "import sympy\n",
    "sympy.init_printing()\n",
    "import verify_2"
   ]
  },
  {
   "cell_type": "markdown",
   "metadata": {},
   "source": [
    "# Section 1 - Differentiation"
   ]
  },
  {
   "cell_type": "markdown",
   "metadata": {},
   "source": [
    "We can derive symbolic expressions"
   ]
  },
  {
   "cell_type": "code",
   "execution_count": 2,
   "metadata": {},
   "outputs": [
    {
     "data": {
      "image/png": "[encoded data removed]",
      "text/latex": [
       "$\\displaystyle \\left[ \\frac{1}{e^{x} - 1}, \\  - \\frac{e^{x}}{\\left(e^{x} - 1\\right)^{2}}, \\  \\frac{\\left(e^{x} + 1\\right) e^{x}}{\\left(e^{x} - 1\\right)^{3}}\\right]$"
      ],
      "text/plain": [
       "⎡             x     ⎛ x    ⎞  x⎤\n",
       "⎢  1        -ℯ      ⎝ℯ  + 1⎠⋅ℯ ⎥\n",
       "⎢──────, ─────────, ───────────⎥\n",
       "⎢ x              2           3 ⎥\n",
       "⎢ℯ  - 1  ⎛ x    ⎞    ⎛ x    ⎞  ⎥\n",
       "⎣        ⎝ℯ  - 1⎠    ⎝ℯ  - 1⎠  ⎦"
      ]
     },
     "metadata": {},
     "output_type": "display_data"
    }
   ],
   "source": [
    "def demo_1a():\n",
    "    x = sympy.Symbol('x',real=True)\n",
    "    func = 1/(sympy.exp(x)-1)\n",
    "    display([func, func.diff(x), func.diff(x,2).simplify()])\n",
    "demo_1a()"
   ]
  },
  {
   "cell_type": "markdown",
   "metadata": {},
   "source": [
    "__Exercise a__\n",
    "\n",
    "An airline has a limit on the sum of the dimensions of checked luggage (height+width+length) $H+W+L=S$. Also, from asthetic reasons, the height has to be twice as large as the width. What is the width of a suitcase that meets this criterion that would maximised the volume?"
   ]
  },
  {
   "cell_type": "code",
   "execution_count": 36,
   "metadata": {},
   "outputs": [
    {
     "data": {
      "image/png": "[encoded data removed]",
      "text/latex": [
       "$\\displaystyle 2 W^{2} \\left(S - 3 W\\right)$"
      ],
      "text/plain": [
       "   2          \n",
       "2⋅W ⋅(S - 3⋅W)"
      ]
     },
     "metadata": {},
     "output_type": "display_data"
    },
    {
     "data": {
      "image/png": "[encoded data removed]",
      "text/latex": [
       "$\\displaystyle - 6 W^{2} + 4 W \\left(S - 3 W\\right)$"
      ],
      "text/plain": [
       "     2                \n",
       "- 6⋅W  + 4⋅W⋅(S - 3⋅W)"
      ]
     },
     "metadata": {},
     "output_type": "display_data"
    },
    {
     "data": {
      "image/png": "[encoded data removed]",
      "text/latex": [
       "$\\displaystyle \\frac{2 S}{9}$"
      ],
      "text/plain": [
       "2⋅S\n",
       "───\n",
       " 9 "
      ]
     },
     "metadata": {},
     "output_type": "display_data"
    },
    {
     "data": {
      "image/png": "[encoded data removed]",
      "text/latex": [
       "$\\displaystyle \\frac{2 S}{9}$"
      ],
      "text/plain": [
       "2⋅S\n",
       "───\n",
       " 9 "
      ]
     },
     "metadata": {},
     "output_type": "display_data"
    },
    {
     "name": "stdout",
     "output_type": "stream",
     "text": [
      "True\n"
     ]
    }
   ],
   "source": [
    "def exercise_1a():\n",
    "    \n",
    "    H = sympy.Symbol('H', positive=True) # Height\n",
    "    W = sympy.Symbol('W', positive=True) # Width\n",
    "    L = sympy.Symbol('L', positive=True) # Length\n",
    "    S = sympy.Symbol('S', positive=True) # Sum of all dimensions\n",
    "    cond1 = sympy.Eq(S,H+W+L)\n",
    "    cond2 = sympy.Eq(H,2*W)\n",
    "    \n",
    "    temp = H*W*L\n",
    "    temp = temp.subs(sympy.solve(cond1,L,dict=True)[0])\n",
    "    temp = temp.subs(sympy.solve(cond2,H,dict=True)[0])\n",
    "    display(temp)\n",
    "    temp = temp.diff(W)\n",
    "    display(temp)\n",
    "    temp = sympy.solve(temp, W)[0]\n",
    "    display(temp)\n",
    "    \n",
    "    # Enter answer here\n",
    "    answer = temp\n",
    "    display(answer)\n",
    "    print(verify_2.verify_1a(answer))\n",
    "exercise_1a()"
   ]
  },
  {
   "cell_type": "markdown",
   "metadata": {},
   "source": [
    "__Exercise b__\n",
    "\n",
    "In this exercise we reproduce the reflection and transmission coefficients of a quantum mechanical particle wave according to the Schroedinger equation. The potential is $V\\left(x\\right) = V_0 \\Theta \\left(x\\right)$, so waves are coming from the left and scatter off from the potential step. Use continuity and differentiability to\n",
    "\n",
    "I) Find the reflection coefficient\n",
    "\n",
    "II) Find the transmission coefficent"
   ]
  },
  {
   "cell_type": "code",
   "execution_count": 3,
   "metadata": {},
   "outputs": [
    {
     "name": "stdout",
     "output_type": "stream",
     "text": [
      "False\n",
      "False\n"
     ]
    }
   ],
   "source": [
    "def exercise_1b():\n",
    "    \n",
    "    m = sympy.Symbol('m', positive=True) # Particle mass\n",
    "    h = sympy.Symbol('h', positive=True) # Planck constant\n",
    "    E = sympy.Symbol('E', positive=True) # Particle energy\n",
    "    V_0 = sympy.Symbol('V_0', positive=True) # Potential step\n",
    "    R = sympy.Symbol('R') # Reflection coefficient\n",
    "    T = sympy.Symbol('T') # Transmission coefficient\n",
    "    x = sympy.Symbol('x', real=True) # Position\n",
    "    left_wave = sympy.exp(sympy.I*x*sympy.sqrt(2*m*E)/h) + R*sympy.exp(-sympy.I*x*sympy.sqrt(2*m*E)/h)\n",
    "    right_wave = T*sympy.exp(sympy.I*x*sympy.sqrt(2*m*(E-V_0))/h)\n",
    "            \n",
    "    # Enter answer here\n",
    "    answer_I = 0\n",
    "    print(verify_2.verify_1bI(answer_I))\n",
    "    \n",
    "    answer_II = 0\n",
    "    print(verify_2.verify_1bII(answer_II))\n",
    "\n",
    "exercise_1b()"
   ]
  },
  {
   "cell_type": "markdown",
   "metadata": {},
   "source": [
    "sympy will delay the excution of derivatives as much as possible. You can force it to perform differentiations with the doit command"
   ]
  },
  {
   "cell_type": "code",
   "execution_count": 5,
   "metadata": {},
   "outputs": [
    {
     "data": {
      "image/png": "[encoded data removed]",
      "text/latex": [
       "$\\displaystyle f{\\left(x \\right)}$"
      ],
      "text/plain": [
       "f(x)"
      ]
     },
     "metadata": {},
     "output_type": "display_data"
    },
    {
     "data": {
      "image/png": "[encoded data removed]",
      "text/latex": [
       "$\\displaystyle \\frac{d}{d x} f{\\left(x \\right)}$"
      ],
      "text/plain": [
       "d       \n",
       "──(f(x))\n",
       "dx      "
      ]
     },
     "metadata": {},
     "output_type": "display_data"
    },
    {
     "data": {
      "image/png": "[encoded data removed]",
      "text/latex": [
       "$\\displaystyle \\frac{d}{d x} g^{2}{\\left(x \\right)}$"
      ],
      "text/plain": [
       "d ⎛ 2   ⎞\n",
       "──⎝g (x)⎠\n",
       "dx       "
      ]
     },
     "metadata": {},
     "output_type": "display_data"
    },
    {
     "data": {
      "image/png": "[encoded data removed]",
      "text/latex": [
       "$\\displaystyle 2 g{\\left(x \\right)} \\frac{d}{d x} g{\\left(x \\right)}$"
      ],
      "text/plain": [
       "       d       \n",
       "2⋅g(x)⋅──(g(x))\n",
       "       dx      "
      ]
     },
     "metadata": {},
     "output_type": "display_data"
    }
   ],
   "source": [
    "def demo_1b():\n",
    "    \n",
    "    f = sympy.Function('f')\n",
    "    g = sympy.Function('g')\n",
    "    x = sympy.Symbol('x')\n",
    "    temp = f(x)\n",
    "    display(temp)\n",
    "    temp = temp.diff(x)\n",
    "    display(temp)\n",
    "    temp = temp.subs(f(x),g(x)**2)\n",
    "    display(temp)\n",
    "    temp = temp.doit()\n",
    "    display(temp)\n",
    "demo_1b()"
   ]
  },
  {
   "cell_type": "markdown",
   "metadata": {},
   "source": [
    "To create an unevaludated derivative, use the Derivative class"
   ]
  },
  {
   "cell_type": "code",
   "execution_count": 6,
   "metadata": {},
   "outputs": [
    {
     "data": {
      "image/png": "[encoded data removed]",
      "text/latex": [
       "$\\displaystyle \\frac{d}{d x} x^{2}$"
      ],
      "text/plain": [
       "d ⎛ 2⎞\n",
       "──⎝x ⎠\n",
       "dx    "
      ]
     },
     "metadata": {},
     "output_type": "display_data"
    },
    {
     "data": {
      "image/png": "[encoded data removed]",
      "text/latex": [
       "$\\displaystyle 2 x$"
      ],
      "text/plain": [
       "2⋅x"
      ]
     },
     "metadata": {},
     "output_type": "display_data"
    }
   ],
   "source": [
    "def demo_1c():\n",
    "    \n",
    "    x = sympy.Symbol('x', real=True)\n",
    "    func = x**2\n",
    "    temp = sympy.Derivative(func,x)\n",
    "    display(temp)\n",
    "    display(temp.doit())\n",
    "    \n",
    "demo_1c()"
   ]
  },
  {
   "cell_type": "markdown",
   "metadata": {},
   "source": [
    "# Section 2 - Integration"
   ]
  },
  {
   "cell_type": "markdown",
   "metadata": {},
   "source": [
    "Indefinite integrals"
   ]
  },
  {
   "cell_type": "code",
   "execution_count": 7,
   "metadata": {},
   "outputs": [
    {
     "data": {
      "image/png": "[encoded data removed]",
      "text/latex": [
       "$\\displaystyle \\left[ x^{2} + x \\cos{\\left(2 x \\right)}, \\  \\frac{x^{3}}{3} + \\frac{x \\sin{\\left(2 x \\right)}}{2} + \\frac{\\cos{\\left(2 x \\right)}}{4}\\right]$"
      ],
      "text/plain": [
       "⎡                  3                        ⎤\n",
       "⎢ 2               x    x⋅sin(2⋅x)   cos(2⋅x)⎥\n",
       "⎢x  + x⋅cos(2⋅x), ── + ────────── + ────────⎥\n",
       "⎣                 3        2           4    ⎦"
      ]
     },
     "metadata": {},
     "output_type": "display_data"
    }
   ],
   "source": [
    "def demo_2a():\n",
    "    x = sympy.Symbol('x', real=True)\n",
    "    func = x**2+x*sympy.cos(2*x)\n",
    "    display([func, func.integrate(x)])\n",
    "demo_2a()"
   ]
  },
  {
   "cell_type": "markdown",
   "metadata": {},
   "source": [
    "Definite integrals"
   ]
  },
  {
   "cell_type": "code",
   "execution_count": 8,
   "metadata": {},
   "outputs": [
    {
     "data": {
      "image/png": "[encoded data removed]",
      "text/latex": [
       "$\\displaystyle \\frac{21959}{20}$"
      ],
      "text/plain": [
       "21959\n",
       "─────\n",
       "  20 "
      ]
     },
     "metadata": {},
     "output_type": "display_data"
    }
   ],
   "source": [
    "def demo_2b():\n",
    "    x = sympy.Symbol('x', real=True)\n",
    "    func = x**3+x**4\n",
    "    display(func.integrate((x,5,6)))\n",
    "demo_2b()"
   ]
  },
  {
   "cell_type": "markdown",
   "metadata": {},
   "source": [
    "Improper integrals"
   ]
  },
  {
   "cell_type": "code",
   "execution_count": 9,
   "metadata": {},
   "outputs": [
    {
     "data": {
      "image/png": "[encoded data removed]",
      "text/latex": [
       "$\\displaystyle \\frac{\\sqrt{\\pi}}{2}$"
      ],
      "text/plain": [
       "√π\n",
       "──\n",
       "2 "
      ]
     },
     "metadata": {},
     "output_type": "display_data"
    }
   ],
   "source": [
    "def demo_2c():\n",
    "    x = sympy.Symbol('x', real=True)\n",
    "    func = sympy.exp(-x**2)\n",
    "    display(func.integrate((x,0,sympy.oo)))\n",
    "demo_2c()"
   ]
  },
  {
   "cell_type": "markdown",
   "metadata": {},
   "source": [
    "Again, sympy can't do magic, so if an integral is not straightforward sympy will fail. As a rule of thumb, if you won't be able to do the integral, so sympy won't as well. Another issue is that the integral might give branching results depending on the values of the integration parameters"
   ]
  },
  {
   "cell_type": "code",
   "execution_count": 10,
   "metadata": {},
   "outputs": [
    {
     "data": {
      "text/latex": [
       "$\\displaystyle \\begin{cases} \\frac{x^{a + 1}}{a + 1} & \\text{for}\\: a \\neq -1 \\\\\\log{\\left(x \\right)} & \\text{otherwise} \\end{cases}$"
      ],
      "text/plain": [
       "⎧ a + 1            \n",
       "⎪x                 \n",
       "⎪──────  for a ≠ -1\n",
       "⎨a + 1             \n",
       "⎪                  \n",
       "⎪log(x)  otherwise \n",
       "⎩                  "
      ]
     },
     "metadata": {},
     "output_type": "display_data"
    }
   ],
   "source": [
    "def demo_2d():\n",
    "    x = sympy.Symbol('x', real=True)\n",
    "    a = sympy.Symbol('a', real=True)\n",
    "    func = x**a\n",
    "    display(func.integrate(x))\n",
    "demo_2d()"
   ]
  },
  {
   "cell_type": "markdown",
   "metadata": {},
   "source": [
    "The ambiguity can be eliminated by imposing qualifiers on the variables"
   ]
  },
  {
   "cell_type": "code",
   "execution_count": 11,
   "metadata": {},
   "outputs": [
    {
     "data": {
      "image/png": "[encoded data removed]",
      "text/latex": [
       "$\\displaystyle \\frac{x^{a + 1}}{a + 1}$"
      ],
      "text/plain": [
       " a + 1\n",
       "x     \n",
       "──────\n",
       "a + 1 "
      ]
     },
     "metadata": {},
     "output_type": "display_data"
    }
   ],
   "source": [
    "def demo_2e():\n",
    "    x = sympy.Symbol('x', real=True)\n",
    "    a = sympy.Symbol('a', positive=True)\n",
    "    func = x**a\n",
    "    display(func.integrate(x))\n",
    "demo_2e()"
   ]
  },
  {
   "cell_type": "markdown",
   "metadata": {},
   "source": [
    "__Exercise a__\n",
    "\n",
    "A massless particle moves in a straight line next to a gravitating mass $M$. Neglecting the changes to the particle's trajectory, find the net change in downward velocity"
   ]
  },
  {
   "cell_type": "code",
   "execution_count": 12,
   "metadata": {},
   "outputs": [
    {
     "data": {
      "image/png": "[encoded data removed]",
      "text/latex": [
       "$\\displaystyle 0$"
      ],
      "text/plain": [
       "0"
      ]
     },
     "metadata": {},
     "output_type": "display_data"
    },
    {
     "name": "stdout",
     "output_type": "stream",
     "text": [
      "False\n"
     ]
    }
   ],
   "source": [
    "def exercise_2a():\n",
    "    \n",
    "    G = sympy.Symbol('G', positive=True) # Gravitation constant\n",
    "    M = sympy.Symbol('M', positive=True) # Mass\n",
    "    t = sympy.Symbol('t', positive=True) # Time\n",
    "    b = sympy.Symbol('b', positive=True) # Impact parameter\n",
    "    v = sympy.Symbol('v', positive=True) # Particle velocity\n",
    "    \n",
    "    acceleration = G*M*b/(v**2*t**2+b**2)**sympy.Rational(3,2)\n",
    "    \n",
    "    # Answer\n",
    "    answer = 0\n",
    "    display(answer)\n",
    "    print(verify_2.verify_2a(answer))\n",
    "exercise_2a()"
   ]
  },
  {
   "cell_type": "markdown",
   "metadata": {},
   "source": [
    "# Section 3 - Series Expansion"
   ]
  },
  {
   "cell_type": "markdown",
   "metadata": {},
   "source": [
    "Expansing a function as a power series"
   ]
  },
  {
   "cell_type": "code",
   "execution_count": 13,
   "metadata": {},
   "outputs": [
    {
     "data": {
      "image/png": "[encoded data removed]",
      "text/latex": [
       "$\\displaystyle 1 + x + \\frac{x^{2}}{2} + \\frac{x^{3}}{6} + \\frac{x^{4}}{24} + \\frac{x^{5}}{120} + O\\left(x^{6}\\right)$"
      ],
      "text/plain": [
       "         2    3    4     5        \n",
       "        x    x    x     x     ⎛ 6⎞\n",
       "1 + x + ── + ── + ── + ─── + O⎝x ⎠\n",
       "        2    6    24   120        "
      ]
     },
     "metadata": {},
     "output_type": "display_data"
    }
   ],
   "source": [
    "def demo_3a():\n",
    "    x = sympy.Symbol('x', real=True)\n",
    "    func = sympy.exp(x)\n",
    "    display(sympy.series(func,x,0,6))\n",
    "demo_3a()"
   ]
  },
  {
   "cell_type": "markdown",
   "metadata": {},
   "source": [
    "To get rid of that annoying big O at the end use removeO"
   ]
  },
  {
   "cell_type": "code",
   "execution_count": 14,
   "metadata": {},
   "outputs": [
    {
     "data": {
      "image/png": "[encoded data removed]",
      "text/latex": [
       "$\\displaystyle \\frac{x^{5}}{120} + \\frac{x^{4}}{24} + \\frac{x^{3}}{6} + \\frac{x^{2}}{2} + x + 1$"
      ],
      "text/plain": [
       "  5    4    3    2        \n",
       " x    x    x    x         \n",
       "─── + ── + ── + ── + x + 1\n",
       "120   24   6    2         "
      ]
     },
     "metadata": {},
     "output_type": "display_data"
    }
   ],
   "source": [
    "def demo_3b():\n",
    "    x = sympy.Symbol('x', real=True)\n",
    "    func = sympy.exp(x)\n",
    "    display(sympy.series(func,x,0,6).removeO())\n",
    "demo_3b()"
   ]
  },
  {
   "cell_type": "markdown",
   "metadata": {},
   "source": [
    "You can also expand about infinity"
   ]
  },
  {
   "cell_type": "code",
   "execution_count": 15,
   "metadata": {},
   "outputs": [
    {
     "data": {
      "image/png": "[encoded data removed]",
      "text/latex": [
       "$\\displaystyle \\frac{1}{x} - \\frac{1}{x^{2}} + \\frac{1}{x^{3}} - \\frac{1}{x^{4}} + \\frac{1}{x^{5}}$"
      ],
      "text/plain": [
       "1   1    1    1    1 \n",
       "─ - ── + ── - ── + ──\n",
       "x    2    3    4    5\n",
       "    x    x    x    x "
      ]
     },
     "metadata": {},
     "output_type": "display_data"
    }
   ],
   "source": [
    "def demo_3c():\n",
    "    x = sympy.Symbol('x', real=True)\n",
    "    func = 1/(x+1)\n",
    "    display(sympy.series(func,x,sympy.oo,6).removeO())\n",
    "demo_3c()"
   ]
  },
  {
   "cell_type": "markdown",
   "metadata": {},
   "source": [
    "Series expansion doesn't handle exponentials and logarithms very well. Also, if we have an unknown power $x^{\\alpha}$ then sympy wouldn't know how to treat it."
   ]
  },
  {
   "cell_type": "markdown",
   "metadata": {},
   "source": [
    "__Exercise a__\n",
    "\n",
    "Two negative charge $-Q$ are placed at $x=\\pm s$ and $y=0$. One positive charge $2 Q$ is placed at the origing. Find the leading term in the potential at large distances $r \\gg s$"
   ]
  },
  {
   "cell_type": "code",
   "execution_count": 16,
   "metadata": {},
   "outputs": [
    {
     "name": "stdout",
     "output_type": "stream",
     "text": [
      "potential\n"
     ]
    },
    {
     "data": {
      "image/png": "[encoded data removed]",
      "text/latex": [
       "$\\displaystyle - \\frac{Q}{\\sqrt{r^{2} + 2 r s \\cos{\\left(\\theta \\right)} + s^{2}}} - \\frac{Q}{\\sqrt{r^{2} - 2 r s \\cos{\\left(\\theta \\right)} + s^{2}}} + \\frac{2 Q}{r}$"
      ],
      "text/plain": [
       "               Q                             Q                2⋅Q\n",
       "- ─────────────────────────── - ─────────────────────────── + ───\n",
       "     ________________________      ________________________    r \n",
       "    ╱  2                   2      ╱  2                   2       \n",
       "  ╲╱  r  + 2⋅r⋅s⋅cos(θ) + s     ╲╱  r  - 2⋅r⋅s⋅cos(θ) + s        "
      ]
     },
     "metadata": {},
     "output_type": "display_data"
    },
    {
     "name": "stdout",
     "output_type": "stream",
     "text": [
      "expansion\n"
     ]
    },
    {
     "data": {
      "image/png": "[encoded data removed]",
      "text/latex": [
       "$\\displaystyle 0$"
      ],
      "text/plain": [
       "0"
      ]
     },
     "metadata": {},
     "output_type": "display_data"
    },
    {
     "name": "stdout",
     "output_type": "stream",
     "text": [
      "False\n"
     ]
    }
   ],
   "source": [
    "def exercise_3a():\n",
    "    \n",
    "    s = sympy.Symbol('s', positive=True) # Separation\n",
    "    Q = sympy.Symbol('Q', positive=True) # Charge\n",
    "    r = sympy.Symbol('r', positive=True) # Radius\n",
    "    q = sympy.Symbol('theta', positive=True) # Angle\n",
    "    \n",
    "    potential = 2*Q/r-Q/sympy.sqrt(r**2+s**2+2*s*r*sympy.cos(q))-Q/sympy.sqrt(r**2+s**2-2*s*r*sympy.cos(q))\n",
    "    print('potential')\n",
    "    display(potential)\n",
    "    \n",
    "    # Answer\n",
    "    print('expansion')\n",
    "    answer = 0\n",
    "    display(answer)\n",
    "    print(verify_2.verify_3a(answer))\n",
    "    \n",
    "exercise_3a()"
   ]
  },
  {
   "cell_type": "markdown",
   "metadata": {},
   "source": [
    "# Section 4 - Limits"
   ]
  },
  {
   "cell_type": "markdown",
   "metadata": {},
   "source": [
    "Sympy can also calculate limits"
   ]
  },
  {
   "cell_type": "code",
   "execution_count": 17,
   "metadata": {},
   "outputs": [
    {
     "data": {
      "image/png": "[encoded data removed]",
      "text/latex": [
       "$\\displaystyle \\left[ \\frac{\\sin{\\left(3 x^{2} \\right)}}{e^{4 \\log{\\left(x + 1 \\right)}^{2}} - 1}, \\  \\frac{3}{4}\\right]$"
      ],
      "text/plain": [
       "⎡       ⎛   2⎞          ⎤\n",
       "⎢    sin⎝3⋅x ⎠          ⎥\n",
       "⎢──────────────────, 3/4⎥\n",
       "⎢      2                ⎥\n",
       "⎢ 4⋅log (x + 1)         ⎥\n",
       "⎣ℯ              - 1     ⎦"
      ]
     },
     "metadata": {},
     "output_type": "display_data"
    }
   ],
   "source": [
    "def demo_4a():\n",
    "    \n",
    "    x = sympy.Symbol('x', real=True)\n",
    "    func = sympy.sin(3*x**2)/(sympy.exp(4*sympy.log(1+x)**2)-1)\n",
    "    display([func,sympy.limit(func,x,0)])\n",
    "demo_4a()"
   ]
  },
  {
   "cell_type": "markdown",
   "metadata": {},
   "source": [
    "It is also possible to define the direction of the limit"
   ]
  },
  {
   "cell_type": "code",
   "execution_count": 18,
   "metadata": {},
   "outputs": [
    {
     "data": {
      "image/png": "[encoded data removed]",
      "text/latex": [
       "$\\displaystyle \\left[ \\infty, \\  -\\infty\\right]$"
      ],
      "text/plain": [
       "[∞, -∞]"
      ]
     },
     "metadata": {},
     "output_type": "display_data"
    }
   ],
   "source": [
    "def demo_4b():\n",
    "    \n",
    "    x = sympy.Symbol('x', real=True)\n",
    "    display([sympy.limit(1/x, x, 0, '+'),sympy.limit(1/x, x, 0, '-')])\n",
    "demo_4b()"
   ]
  },
  {
   "cell_type": "markdown",
   "metadata": {},
   "source": [
    "The limit from Mean Girls!"
   ]
  },
  {
   "cell_type": "markdown",
   "metadata": {},
   "source": [
    "![Image of Yaktocat](http://2.bp.blogspot.com/-4JW7IxX0wQI/TbdCDfAUN2I/AAAAAAAAAFc/LBn2mnz8zVw/s1600/Mean+Girls.png)"
   ]
  },
  {
   "cell_type": "code",
   "execution_count": 19,
   "metadata": {},
   "outputs": [
    {
     "data": {
      "image/png": "[encoded data removed]",
      "text/latex": [
       "$\\displaystyle \\left[ \\frac{\\log{\\left(1 - x \\right)} - \\sin{\\left(x \\right)}}{1 - \\cos^{2}{\\left(x \\right)}}, \\  -\\infty, \\  \\infty\\right]$"
      ],
      "text/plain": [
       "⎡log(1 - x) - sin(x)       ⎤\n",
       "⎢───────────────────, -∞, ∞⎥\n",
       "⎢           2              ⎥\n",
       "⎣    1 - cos (x)           ⎦"
      ]
     },
     "metadata": {},
     "output_type": "display_data"
    }
   ],
   "source": [
    "def mean_girls_limit():\n",
    "    \n",
    "    x = sympy.Symbol('x')\n",
    "    func = (sympy.log(1-x) - sympy.sin(x))/(1-sympy.cos(x)**2)\n",
    "    display([func,sympy.limit(func,x,0,'+'),sympy.limit(func,x,0,'-')])\n",
    "mean_girls_limit()"
   ]
  },
  {
   "cell_type": "markdown",
   "metadata": {},
   "source": [
    "__Exercise a__\n",
    "\n",
    "Find the limit $\\lim_{x\\rightarrow 0}\\frac{\\sin x}{x}$"
   ]
  },
  {
   "cell_type": "code",
   "execution_count": 20,
   "metadata": {},
   "outputs": [
    {
     "data": {
      "image/png": "[encoded data removed]",
      "text/latex": [
       "$\\displaystyle 0$"
      ],
      "text/plain": [
       "0"
      ]
     },
     "metadata": {},
     "output_type": "display_data"
    },
    {
     "name": "stdout",
     "output_type": "stream",
     "text": [
      "False\n"
     ]
    }
   ],
   "source": [
    "def exercise_4a():\n",
    "    \n",
    "    x = sympy.Symbol('x', real=True)\n",
    "    \n",
    "    func = sympy.sin(x)/x\n",
    "    \n",
    "    answer = 0\n",
    "    display(answer)\n",
    "    print(verify_2.verify_4a(answer))\n",
    "exercise_4a()"
   ]
  },
  {
   "cell_type": "markdown",
   "metadata": {},
   "source": [
    "# Section 5 - Integral Transforms"
   ]
  },
  {
   "cell_type": "markdown",
   "metadata": {},
   "source": [
    "Fourier transform"
   ]
  },
  {
   "cell_type": "code",
   "execution_count": 21,
   "metadata": {},
   "outputs": [
    {
     "data": {
      "image/png": "[encoded data removed]",
      "text/latex": [
       "$\\displaystyle \\left[ e^{- \\left|{x}\\right|}, \\  \\frac{2}{4 \\pi^{2} k^{2} + 1}\\right]$"
      ],
      "text/plain": [
       "⎡ -│x│       2     ⎤\n",
       "⎢ℯ    , ───────────⎥\n",
       "⎢          2  2    ⎥\n",
       "⎣       4⋅π ⋅k  + 1⎦"
      ]
     },
     "metadata": {},
     "output_type": "display_data"
    }
   ],
   "source": [
    "def demo_5a():\n",
    "    \n",
    "    x = sympy.Symbol('x', real=True)\n",
    "    k = sympy.Symbol('k', real=True)\n",
    "    func = sympy.exp(-sympy.Abs(x))\n",
    "    ft = sympy.fourier_transform(func,x,k)\n",
    "    display([func,ft])\n",
    "demo_5a()"
   ]
  },
  {
   "cell_type": "markdown",
   "metadata": {},
   "source": [
    "__Exercise a__\n",
    "\n",
    "Find the Fourier transform of a Gaussian"
   ]
  },
  {
   "cell_type": "code",
   "execution_count": 22,
   "metadata": {},
   "outputs": [
    {
     "data": {
      "image/png": "[encoded data removed]",
      "text/latex": [
       "$\\displaystyle 0$"
      ],
      "text/plain": [
       "0"
      ]
     },
     "metadata": {},
     "output_type": "display_data"
    },
    {
     "name": "stdout",
     "output_type": "stream",
     "text": [
      "False\n"
     ]
    }
   ],
   "source": [
    "def exercise_5a():\n",
    "    \n",
    "    x = sympy.Symbol('x', real=True)\n",
    "    k = sympy.Symbol('k', real=True)\n",
    "    func = sympy.exp(-x**2)\n",
    "    \n",
    "    answer = 0\n",
    "    display(answer)\n",
    "    print(verify_2.verify_5a(answer))\n",
    "exercise_5a()"
   ]
  },
  {
   "cell_type": "markdown",
   "metadata": {},
   "source": [
    "# Section 6 - Differential Equations"
   ]
  },
  {
   "cell_type": "markdown",
   "metadata": {},
   "source": [
    "Solving differential equations"
   ]
  },
  {
   "cell_type": "code",
   "execution_count": 23,
   "metadata": {},
   "outputs": [
    {
     "data": {
      "image/png": "[encoded data removed]",
      "text/latex": [
       "$\\displaystyle \\frac{d^{2}}{d t^{2}} x{\\left(t \\right)} = - x{\\left(t \\right)}$"
      ],
      "text/plain": [
       "  2              \n",
       " d               \n",
       "───(x(t)) = -x(t)\n",
       "  2              \n",
       "dt               "
      ]
     },
     "metadata": {},
     "output_type": "display_data"
    },
    {
     "data": {
      "image/png": "[encoded data removed]",
      "text/latex": [
       "$\\displaystyle x{\\left(t \\right)} = C_{1} \\sin{\\left(t \\right)} + C_{2} \\cos{\\left(t \\right)}$"
      ],
      "text/plain": [
       "x(t) = C₁⋅sin(t) + C₂⋅cos(t)"
      ]
     },
     "metadata": {},
     "output_type": "display_data"
    }
   ],
   "source": [
    "def demo_6a():\n",
    "    \n",
    "    x = sympy.Function('x', real=True)\n",
    "    t = sympy.Symbol('t', real=True)\n",
    "    \n",
    "    eqn = sympy.Eq(x(t).diff(t,2), -x(t))\n",
    "    sol = sympy.dsolve(eqn, x(t))\n",
    "    \n",
    "    display(eqn)\n",
    "    display(sol)\n",
    "    \n",
    "demo_6a()"
   ]
  },
  {
   "cell_type": "markdown",
   "metadata": {},
   "source": [
    "Including initial conditions"
   ]
  },
  {
   "cell_type": "code",
   "execution_count": 24,
   "metadata": {},
   "outputs": [
    {
     "data": {
      "image/png": "[encoded data removed]",
      "text/latex": [
       "$\\displaystyle \\frac{d^{2}}{d t^{2}} x{\\left(t \\right)} = - x{\\left(t \\right)}$"
      ],
      "text/plain": [
       "  2              \n",
       " d               \n",
       "───(x(t)) = -x(t)\n",
       "  2              \n",
       "dt               "
      ]
     },
     "metadata": {},
     "output_type": "display_data"
    },
    {
     "data": {
      "text/latex": [
       "$\\displaystyle \\left\\{ x{\\left(0 \\right)} : 0, \\  \\left. \\frac{d}{d t} x{\\left(t \\right)} \\right|_{\\substack{ t=0 }} : 1\\right\\}$"
      ],
      "text/plain": [
       "⎧         ⎛d       ⎞│      ⎫\n",
       "⎨x(0): 0, ⎜──(x(t))⎟│   : 1⎬\n",
       "⎩         ⎝dt      ⎠│t=0   ⎭"
      ]
     },
     "metadata": {},
     "output_type": "display_data"
    },
    {
     "data": {
      "image/png": "[encoded data removed]",
      "text/latex": [
       "$\\displaystyle x{\\left(t \\right)} = \\sin{\\left(t \\right)}$"
      ],
      "text/plain": [
       "x(t) = sin(t)"
      ]
     },
     "metadata": {},
     "output_type": "display_data"
    }
   ],
   "source": [
    "def demo_6b():\n",
    "    \n",
    "    x = sympy.Function('x', real=True)\n",
    "    t = sympy.Symbol('t', real=True)\n",
    "    \n",
    "    init_cond = {x(0):0,\n",
    "                 x(t).diff(t).subs(t,0):1}\n",
    "    eqn = sympy.Eq(x(t).diff(t,2), -x(t))\n",
    "    sol = sympy.dsolve(eqn, x(t),\n",
    "                      ics=init_cond)\n",
    "    \n",
    "    display(eqn)\n",
    "    display(init_cond)\n",
    "    display(sol)\n",
    "    \n",
    "demo_6b()"
   ]
  },
  {
   "cell_type": "markdown",
   "metadata": {},
   "source": [
    "Coupled differential equations"
   ]
  },
  {
   "cell_type": "code",
   "execution_count": 25,
   "metadata": {},
   "outputs": [
    {
     "data": {
      "image/png": "[encoded data removed]",
      "text/latex": [
       "$\\displaystyle \\left[ \\frac{d}{d t} x{\\left(t \\right)} = y{\\left(t \\right)}, \\  \\frac{d}{d t} y{\\left(t \\right)} = - x{\\left(t \\right)}\\right]$"
      ],
      "text/plain": [
       "⎡d                d               ⎤\n",
       "⎢──(x(t)) = y(t), ──(y(t)) = -x(t)⎥\n",
       "⎣dt               dt              ⎦"
      ]
     },
     "metadata": {},
     "output_type": "display_data"
    },
    {
     "data": {
      "image/png": "[encoded data removed]",
      "text/latex": [
       "$\\displaystyle \\left[ x{\\left(t \\right)} = C_{1} \\cos{\\left(t \\right)} + C_{2} \\sin{\\left(t \\right)}, \\  y{\\left(t \\right)} = - C_{1} \\sin{\\left(t \\right)} + C_{2} \\cos{\\left(t \\right)}\\right]$"
      ],
      "text/plain": [
       "[x(t) = C₁⋅cos(t) + C₂⋅sin(t), y(t) = -C₁⋅sin(t) + C₂⋅cos(t)]"
      ]
     },
     "metadata": {},
     "output_type": "display_data"
    }
   ],
   "source": [
    "def demo_6c():\n",
    "    \n",
    "    x = sympy.Function('x', real=True)\n",
    "    y = sympy.Function('y', real=True)\n",
    "    t = sympy.Symbol('t', real=True)\n",
    "    \n",
    "    eqns = [sympy.Eq(x(t).diff(t),y(t)),\n",
    "            sympy.Eq(y(t).diff(t),-x(t))]\n",
    "    display(eqns)\n",
    "    sol = sympy.dsolve(eqns, [x(t), y(t)])\n",
    "    display(sol)\n",
    "demo_6c()"
   ]
  },
  {
   "cell_type": "markdown",
   "metadata": {},
   "source": [
    "__Exercise a__\n",
    "\n",
    "Find the solution to the equation $\\ddot{x} = - x + \\sin \\left(2 t\\right)$ with initial conditions $x \\left(0\\right) = \\dot{x} \\left(0\\right) = 0$"
   ]
  },
  {
   "cell_type": "code",
   "execution_count": 26,
   "metadata": {},
   "outputs": [
    {
     "data": {
      "image/png": "[encoded data removed]",
      "text/latex": [
       "$\\displaystyle x{\\left(t \\right)} = 0$"
      ],
      "text/plain": [
       "x(t) = 0"
      ]
     },
     "metadata": {},
     "output_type": "display_data"
    },
    {
     "name": "stdout",
     "output_type": "stream",
     "text": [
      "False\n"
     ]
    }
   ],
   "source": [
    "def exercise_6a():\n",
    "    \n",
    "    x = sympy.Function('x', real=True)\n",
    "    t = sympy.Symbol('t', real=True)\n",
    "    \n",
    "    answer = sympy.Eq(x(t),0)\n",
    "    display(answer)\n",
    "    print(verify_2.verify_6a(answer))\n",
    "    \n",
    "exercise_6a()"
   ]
  },
  {
   "cell_type": "markdown",
   "metadata": {},
   "source": [
    "# Review Problems"
   ]
  },
  {
   "cell_type": "markdown",
   "metadata": {},
   "source": [
    "## Shapiro Time Delay\n",
    "\n",
    "When light passes closer to a massive object, it moves slower and takes longer to reach a distant observer. Let us consider a photon passing within a distance $b$ of a point mass $M$. Let us find the time as a function of the angle between the photon's velocity and position relative to the massive object. We can assume that $GM/c^2 b \\ll 1$, so we can only consider leading terms in mass."
   ]
  },
  {
   "cell_type": "code",
   "execution_count": 27,
   "metadata": {},
   "outputs": [
    {
     "name": "stdout",
     "output_type": "stream",
     "text": [
      "Schwartzschild metric\n"
     ]
    },
    {
     "data": {
      "image/png": "[encoded data removed]",
      "text/latex": [
       "$\\displaystyle ds^{2} = c^{2} dt^{2} \\left(- \\frac{2 G M}{c^{2} r} + 1\\right) - d\\phi^{2} r^{2} - \\frac{dr^{2}}{- \\frac{2 G M}{c^{2} r} + 1}$"
      ],
      "text/plain": [
       "                                               2    \n",
       "  2    2   2 ⎛  2⋅G⋅M    ⎞        2  2       dr     \n",
       "ds  = c ⋅dt ⋅⎜- ───── + 1⎟ - d\\phi ⋅r  - ───────────\n",
       "             ⎜    2      ⎟                 2⋅G⋅M    \n",
       "             ⎝   c ⋅r    ⎠               - ───── + 1\n",
       "                                             2      \n",
       "                                            c ⋅r    "
      ]
     },
     "metadata": {},
     "output_type": "display_data"
    },
    {
     "name": "stdout",
     "output_type": "stream",
     "text": [
      "Light like trajectory\n"
     ]
    },
    {
     "data": {
      "image/png": "[encoded data removed]",
      "text/latex": [
       "$\\displaystyle ds = 0$"
      ],
      "text/plain": [
       "ds = 0"
      ]
     },
     "metadata": {},
     "output_type": "display_data"
    },
    {
     "name": "stdout",
     "output_type": "stream",
     "text": [
      "trajectory\n"
     ]
    },
    {
     "data": {
      "image/png": "[encoded data removed]",
      "text/latex": [
       "$\\displaystyle r \\sin{\\left(\\phi \\right)} = b$"
      ],
      "text/plain": [
       "r⋅sin(φ) = b"
      ]
     },
     "metadata": {},
     "output_type": "display_data"
    },
    {
     "name": "stdout",
     "output_type": "stream",
     "text": [
      "shapiro time delay\n"
     ]
    },
    {
     "data": {
      "image/png": "[encoded data removed]",
      "text/latex": [
       "$\\displaystyle 0$"
      ],
      "text/plain": [
       "0"
      ]
     },
     "metadata": {},
     "output_type": "display_data"
    }
   ],
   "source": [
    "def try_it_yourself_7a():\n",
    "    \n",
    "    ds = sympy.Symbol('ds', real=True) # Distance differential\n",
    "    G = sympy.Symbol('G', positive=True) # Gravitation constant\n",
    "    M = sympy.Symbol('M', positive=True) # Mass\n",
    "    c = sympy.Symbol('c', positive=True) # Speed of light\n",
    "    r = sympy.Symbol('r', positive=True) # Distance\n",
    "    dt = sympy.Symbol('dt', positive=True) # Time differential\n",
    "    dr = sympy.Symbol('dr', positive=True) # Radius differential\n",
    "    df = sympy.Symbol(r'd\\phi', positive=True) # Angle differential\n",
    "    f = sympy.Symbol('phi', positive=True) # Angle\n",
    "    b = sympy.Symbol('b', positive=True) # Impact parameter\n",
    "    xi = sympy.Symbol('xi', positive=True) # Auxiliary variable\n",
    "    \n",
    "    schwartzschild_metric = sympy.Eq(ds**2,(1-2*G*M/c**2/r)*c**2*dt**2 - dr**2/(1-2*G*M/c**2/r)-df**2*r**2)\n",
    "    print('Schwartzschild metric')\n",
    "    display(schwartzschild_metric)\n",
    "    \n",
    "    light_like = sympy.Eq(ds,0)\n",
    "    print('Light like trajectory')\n",
    "    display(light_like)\n",
    "    \n",
    "    trajctory = sympy.Eq(r*sympy.sin(f),b)\n",
    "    print('trajectory')\n",
    "    display(trajctory)\n",
    "    \n",
    "    print('shapiro time delay')\n",
    "    # Enter you solution\n",
    "    answer = 0\n",
    "    display(answer)\n",
    "    \n",
    "try_it_yourself_7a()"
   ]
  },
  {
   "cell_type": "markdown",
   "metadata": {},
   "source": [
    "The solution"
   ]
  },
  {
   "cell_type": "code",
   "execution_count": 28,
   "metadata": {},
   "outputs": [
    {
     "name": "stdout",
     "output_type": "stream",
     "text": [
      "Schwartzschild metric\n"
     ]
    },
    {
     "data": {
      "image/png": "[encoded data removed]",
      "text/latex": [
       "$\\displaystyle ds^{2} = c^{2} dt^{2} \\left(- \\frac{2 G M}{c^{2} r} + 1\\right) - d\\phi^{2} r^{2} - \\frac{dr^{2}}{- \\frac{2 G M}{c^{2} r} + 1}$"
      ],
      "text/plain": [
       "                                               2    \n",
       "  2    2   2 ⎛  2⋅G⋅M    ⎞        2  2       dr     \n",
       "ds  = c ⋅dt ⋅⎜- ───── + 1⎟ - d\\phi ⋅r  - ───────────\n",
       "             ⎜    2      ⎟                 2⋅G⋅M    \n",
       "             ⎝   c ⋅r    ⎠               - ───── + 1\n",
       "                                             2      \n",
       "                                            c ⋅r    "
      ]
     },
     "metadata": {},
     "output_type": "display_data"
    },
    {
     "name": "stdout",
     "output_type": "stream",
     "text": [
      "Light like trajectory\n"
     ]
    },
    {
     "data": {
      "image/png": "[encoded data removed]",
      "text/latex": [
       "$\\displaystyle ds = 0$"
      ],
      "text/plain": [
       "ds = 0"
      ]
     },
     "metadata": {},
     "output_type": "display_data"
    },
    {
     "name": "stdout",
     "output_type": "stream",
     "text": [
      "trajectory\n"
     ]
    },
    {
     "data": {
      "image/png": "[encoded data removed]",
      "text/latex": [
       "$\\displaystyle r \\sin{\\left(\\phi \\right)} = b$"
      ],
      "text/plain": [
       "r⋅sin(φ) = b"
      ]
     },
     "metadata": {},
     "output_type": "display_data"
    },
    {
     "name": "stdout",
     "output_type": "stream",
     "text": [
      "shapiro time delay\n"
     ]
    },
    {
     "data": {
      "image/png": "[encoded data removed]",
      "text/latex": [
       "$\\displaystyle \\frac{\\frac{45 G^{2} M^{2} \\phi}{16} + \\frac{5 G^{2} M^{2} \\sin{\\left(2 \\phi \\right)}}{8} - \\frac{G^{2} M^{2} \\sin{\\left(4 \\phi \\right)}}{64} + 2 G M b c^{2} \\log{\\left(\\tan{\\left(\\frac{\\phi}{2} \\right)} \\right)} + G M b c^{2} \\cos{\\left(\\phi \\right)} + G M b c^{2} - \\frac{b^{2} c^{4}}{\\tan{\\left(\\phi \\right)}}}{b c^{5}}$"
      ],
      "text/plain": [
       "    2  2        2  2             2  2                                         \n",
       "45⋅G ⋅M ⋅φ   5⋅G ⋅M ⋅sin(2⋅φ)   G ⋅M ⋅sin(4⋅φ)            2    ⎛   ⎛φ⎞⎞       \n",
       "────────── + ──────────────── - ────────────── + 2⋅G⋅M⋅b⋅c ⋅log⎜tan⎜─⎟⎟ + G⋅M⋅\n",
       "    16              8                 64                       ⎝   ⎝2⎠⎠       \n",
       "──────────────────────────────────────────────────────────────────────────────\n",
       "                                                        5                     \n",
       "                                                     b⋅c                      \n",
       "\n",
       "                          2  4 \n",
       "   2                 2   b ⋅c  \n",
       "b⋅c ⋅cos(φ) + G⋅M⋅b⋅c  - ──────\n",
       "                         tan(φ)\n",
       "───────────────────────────────\n",
       "                               \n",
       "                               "
      ]
     },
     "metadata": {},
     "output_type": "display_data"
    },
    {
     "name": "stdout",
     "output_type": "stream",
     "text": [
      "We have three kinds of terms. The first kind is proportional to b/c. It represents the light travel time in flat spacetime, and perstits even without a mass, so it is uninteresting. The second kind are proportional to GM/c^3, but not on the impact parameter. These represent a constant time delay for photons at all impact parameters, so they don't carry any important information. Finally, we have terms of the form G^2 M^2/c^4 b that are the only relevnat ones.\n"
     ]
    },
    {
     "data": {
      "image/png": "[encoded data removed]",
      "text/latex": [
       "$\\displaystyle \\frac{45 \\pi G^{2} M^{2}}{16 b c^{5}}$"
      ],
      "text/plain": [
       "      2  2\n",
       "45⋅π⋅G ⋅M \n",
       "──────────\n",
       "       5  \n",
       " 16⋅b⋅c   "
      ]
     },
     "metadata": {},
     "output_type": "display_data"
    }
   ],
   "source": [
    "def demo_7a():\n",
    "    \n",
    "    ds = sympy.Symbol('ds', real=True) # Distance differential\n",
    "    G = sympy.Symbol('G', positive=True) # Gravitation constant\n",
    "    M = sympy.Symbol('M', positive=True) # Mass\n",
    "    c = sympy.Symbol('c', positive=True) # Speed of light\n",
    "    r = sympy.Symbol('r', positive=True) # Distance\n",
    "    dt = sympy.Symbol('dt', positive=True) # Time differential\n",
    "    dr = sympy.Symbol('dr', positive=True) # Radius differential\n",
    "    df = sympy.Symbol(r'd\\phi', positive=True) # Angle differential\n",
    "    f = sympy.Symbol('phi', positive=True) # Angle\n",
    "    b = sympy.Symbol('b', positive=True) # Impact parameter\n",
    "    xi = sympy.Symbol('xi', positive=True) # Auxiliary variable\n",
    "    \n",
    "    schwartzschild_metric = sympy.Eq(ds**2,(1-2*G*M/c**2/r)*c**2*dt**2 - dr**2/(1-2*G*M/c**2/r)-df**2*r**2)\n",
    "    print('Schwartzschild metric')\n",
    "    display(schwartzschild_metric)\n",
    "    \n",
    "    light_like = sympy.Eq(ds,0)\n",
    "    print('Light like trajectory')\n",
    "    display(light_like)\n",
    "    \n",
    "    trajctory = sympy.Eq(r*sympy.sin(f),b)\n",
    "    print('trajectory')\n",
    "    display(trajctory)\n",
    "    \n",
    "    print('shapiro time delay')\n",
    "    # Enter you solution\n",
    "    temp = schwartzschild_metric\n",
    "    temp = temp.subs(light_like.lhs, light_like.rhs)\n",
    "    temp = temp.subs(sympy.solve(trajctory,r,dict=True)[0])\n",
    "    temp = temp.subs(dr,df*sympy.solve(trajctory,r)[0].diff(f))\n",
    "    temp = sympy.solve(temp, dt)[0]/df\n",
    "    temp = sympy.series(temp,M,0,3).removeO()\n",
    "    temp = temp.integrate(f).simplify()\n",
    "    display(temp)\n",
    "    print(\"We have three kinds of terms. The first kind is proportional to b/c. It represents the light travel time in flat spacetime, and perstits even without a mass, so it is uninteresting. The second kind are proportional to GM/c^3, but not on the impact parameter. These represent a constant time delay for photons at all impact parameters, so they don't carry any important information. Finally, we have terms of the form G^2 M^2/c^4 b that are the only relevnat ones.\")\n",
    "    temp = temp.diff(M,2)*M**2/2\n",
    "    temp = temp.subs(f,sympy.pi) - temp.subs(f,0)\n",
    "    display(temp)\n",
    "    \n",
    "demo_7a()"
   ]
  },
  {
   "cell_type": "code",
   "execution_count": null,
   "metadata": {},
   "outputs": [],
   "source": []
  }
 ],
 "metadata": {
  "kernelspec": {
   "display_name": "Python 3",
   "language": "python",
   "name": "python3"
  },
  "language_info": {
   "codemirror_mode": {
    "name": "ipython",
    "version": 3
   },
   "file_extension": ".py",
   "mimetype": "text/x-python",
   "name": "python",
   "nbconvert_exporter": "python",
   "pygments_lexer": "ipython3",
   "version": "3.7.1"
  }
 },
 "nbformat": 4,
 "nbformat_minor": 2
}
