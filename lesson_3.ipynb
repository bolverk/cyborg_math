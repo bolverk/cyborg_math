{
 "cells": [
  {
   "cell_type": "code",
   "execution_count": 2,
   "metadata": {},
   "outputs": [],
   "source": [
    "import sympy\n",
    "sympy.init_printing()\n",
    "import verify_3"
   ]
  },
  {
   "cell_type": "markdown",
   "metadata": {},
   "source": [
    "# Section 1 - Linear Alebra Types"
   ]
  },
  {
   "cell_type": "markdown",
   "metadata": {},
   "source": [
    "You can define both a vector and a matrix by creating an instance of Matrix from an array"
   ]
  },
  {
   "cell_type": "code",
   "execution_count": 2,
   "metadata": {},
   "outputs": [
    {
     "data": {
      "text/latex": [
       "$\\displaystyle \\left[\\begin{matrix}1\\\\2\\\\3\\end{matrix}\\right]$"
      ],
      "text/plain": [
       "⎡1⎤\n",
       "⎢ ⎥\n",
       "⎢2⎥\n",
       "⎢ ⎥\n",
       "⎣3⎦"
      ]
     },
     "metadata": {},
     "output_type": "display_data"
    },
    {
     "data": {
      "text/latex": [
       "$\\displaystyle \\left[\\begin{matrix}1 & 2\\\\3 & 5\\end{matrix}\\right]$"
      ],
      "text/plain": [
       "⎡1  2⎤\n",
       "⎢    ⎥\n",
       "⎣3  5⎦"
      ]
     },
     "metadata": {},
     "output_type": "display_data"
    }
   ],
   "source": [
    "def demo_1a():\n",
    "    \n",
    "    vector = sympy.Matrix([1,2,3])\n",
    "    matrix = sympy.Matrix([[1,2],[3,5]])\n",
    "    display(vector)\n",
    "    display(matrix)\n",
    "demo_1a()"
   ]
  },
  {
   "cell_type": "markdown",
   "metadata": {},
   "source": [
    "Transpositions"
   ]
  },
  {
   "cell_type": "code",
   "execution_count": 3,
   "metadata": {},
   "outputs": [
    {
     "data": {
      "text/latex": [
       "$\\displaystyle \\left[\\begin{matrix}1\\\\2\\\\3\\end{matrix}\\right]$"
      ],
      "text/plain": [
       "⎡1⎤\n",
       "⎢ ⎥\n",
       "⎢2⎥\n",
       "⎢ ⎥\n",
       "⎣3⎦"
      ]
     },
     "metadata": {},
     "output_type": "display_data"
    },
    {
     "data": {
      "text/latex": [
       "$\\displaystyle \\left[\\begin{matrix}1 & 2 & 3\\end{matrix}\\right]$"
      ],
      "text/plain": [
       "[1  2  3]"
      ]
     },
     "metadata": {},
     "output_type": "display_data"
    },
    {
     "data": {
      "text/latex": [
       "$\\displaystyle \\left[\\begin{matrix}1 & 2\\\\3 & 5\\end{matrix}\\right]$"
      ],
      "text/plain": [
       "⎡1  2⎤\n",
       "⎢    ⎥\n",
       "⎣3  5⎦"
      ]
     },
     "metadata": {},
     "output_type": "display_data"
    },
    {
     "data": {
      "text/latex": [
       "$\\displaystyle \\left[\\begin{matrix}1 & 3\\\\2 & 5\\end{matrix}\\right]$"
      ],
      "text/plain": [
       "⎡1  3⎤\n",
       "⎢    ⎥\n",
       "⎣2  5⎦"
      ]
     },
     "metadata": {},
     "output_type": "display_data"
    }
   ],
   "source": [
    "def demo_1b():\n",
    "    \n",
    "    vector = sympy.Matrix([1,2,3])\n",
    "    matrix = sympy.Matrix([[1,2],[3,5]])\n",
    "    display(vector)\n",
    "    display(vector.transpose())\n",
    "    display(matrix)\n",
    "    display(matrix.transpose())\n",
    "demo_1b()"
   ]
  },
  {
   "cell_type": "markdown",
   "metadata": {},
   "source": [
    "Access individual entries"
   ]
  },
  {
   "cell_type": "code",
   "execution_count": 4,
   "metadata": {},
   "outputs": [
    {
     "data": {
      "text/latex": [
       "$\\displaystyle \\left[\\begin{matrix}1 & 2\\\\3 & 5\\end{matrix}\\right]$"
      ],
      "text/plain": [
       "⎡1  2⎤\n",
       "⎢    ⎥\n",
       "⎣3  5⎦"
      ]
     },
     "metadata": {},
     "output_type": "display_data"
    },
    {
     "data": {
      "image/png": "[encoded data removed]",
      "text/latex": [
       "$\\displaystyle 5$"
      ],
      "text/plain": [
       "5"
      ]
     },
     "metadata": {},
     "output_type": "display_data"
    },
    {
     "data": {
      "image/png": "[encoded data removed]",
      "text/latex": [
       "$\\displaystyle 3$"
      ],
      "text/plain": [
       "3"
      ]
     },
     "metadata": {},
     "output_type": "display_data"
    },
    {
     "data": {
      "text/latex": [
       "$\\displaystyle \\left[\\begin{matrix}1 & 2\\\\3 & 7\\end{matrix}\\right]$"
      ],
      "text/plain": [
       "⎡1  2⎤\n",
       "⎢    ⎥\n",
       "⎣3  7⎦"
      ]
     },
     "metadata": {},
     "output_type": "display_data"
    }
   ],
   "source": [
    "def demo_1c():\n",
    "    \n",
    "    matrix = sympy.Matrix([[1,2],[3,5]])\n",
    "    display(matrix)\n",
    "    display(matrix[3]) # Read\n",
    "    display(matrix[1,0])\n",
    "    matrix[3] = 7 # Write\n",
    "    display(matrix)\n",
    "demo_1c()"
   ]
  },
  {
   "cell_type": "markdown",
   "metadata": {},
   "source": [
    "__Exercise a__\n",
    "\n",
    "Create the column vector $\\left[x,y\\right]^T$"
   ]
  },
  {
   "cell_type": "code",
   "execution_count": 5,
   "metadata": {},
   "outputs": [
    {
     "data": {
      "image/png": "[encoded data removed]",
      "text/latex": [
       "$\\displaystyle 0$"
      ],
      "text/plain": [
       "0"
      ]
     },
     "metadata": {},
     "output_type": "display_data"
    },
    {
     "name": "stdout",
     "output_type": "stream",
     "text": [
      "False\n"
     ]
    }
   ],
   "source": [
    "def exercise_1a():\n",
    "    \n",
    "    x = sympy.Symbol('x')\n",
    "    y = sympy.Symbol('y')\n",
    "    \n",
    "    # Enter answer here\n",
    "    answer = 0\n",
    "    display(answer)\n",
    "    print(verify_3.verify_1a(answer))\n",
    "exercise_1a()"
   ]
  },
  {
   "cell_type": "markdown",
   "metadata": {},
   "source": [
    "Slightly more interesting example, Jacobian matrix for polar coordinates"
   ]
  },
  {
   "cell_type": "code",
   "execution_count": 6,
   "metadata": {},
   "outputs": [
    {
     "data": {
      "text/latex": [
       "$\\displaystyle \\left[\\begin{matrix}\\cos{\\left(\\theta \\right)} & \\sin{\\left(\\theta \\right)}\\\\- r \\sin{\\left(\\theta \\right)} & r \\cos{\\left(\\theta \\right)}\\end{matrix}\\right]$"
      ],
      "text/plain": [
       "⎡ cos(θ)     sin(θ) ⎤\n",
       "⎢                   ⎥\n",
       "⎣-r⋅sin(θ)  r⋅cos(θ)⎦"
      ]
     },
     "metadata": {},
     "output_type": "display_data"
    }
   ],
   "source": [
    "def demo_1d():\n",
    "    \n",
    "    r = sympy.Symbol('r', positive=True)\n",
    "    q = sympy.Symbol('theta', positive=True)\n",
    "    x = r*sympy.cos(q)\n",
    "    y = r*sympy.sin(q)\n",
    "    jac = sympy.Matrix([[var1.diff(var2) for var1 in [x,y]] for var2 in [r,q]])\n",
    "    display(jac)\n",
    "\n",
    "demo_1d()"
   ]
  },
  {
   "cell_type": "markdown",
   "metadata": {},
   "source": [
    "# Section 2 - Multiplication"
   ]
  },
  {
   "cell_type": "markdown",
   "metadata": {},
   "source": [
    "To multiply matrices, use the operator *"
   ]
  },
  {
   "cell_type": "code",
   "execution_count": 7,
   "metadata": {},
   "outputs": [
    {
     "data": {
      "text/latex": [
       "$\\displaystyle \\left[\\begin{matrix}1 & 1\\\\1 & 1\\end{matrix}\\right]$"
      ],
      "text/plain": [
       "⎡1  1⎤\n",
       "⎢    ⎥\n",
       "⎣1  1⎦"
      ]
     },
     "metadata": {},
     "output_type": "display_data"
    },
    {
     "data": {
      "text/latex": [
       "$\\displaystyle \\left[\\begin{matrix}1 & -1\\\\-1 & 1\\end{matrix}\\right]$"
      ],
      "text/plain": [
       "⎡1   -1⎤\n",
       "⎢      ⎥\n",
       "⎣-1  1 ⎦"
      ]
     },
     "metadata": {},
     "output_type": "display_data"
    },
    {
     "data": {
      "text/latex": [
       "$\\displaystyle \\left[\\begin{matrix}0 & 0\\\\0 & 0\\end{matrix}\\right]$"
      ],
      "text/plain": [
       "⎡0  0⎤\n",
       "⎢    ⎥\n",
       "⎣0  0⎦"
      ]
     },
     "metadata": {},
     "output_type": "display_data"
    }
   ],
   "source": [
    "def demo_2a():\n",
    "    \n",
    "    matrix_a = sympy.Matrix([[1,1],[1,1]])\n",
    "    matrix_b = sympy.Matrix([[1,-1],[-1,1]])\n",
    "    display(matrix_a)\n",
    "    display(matrix_b)\n",
    "    display(matrix_a*matrix_b)\n",
    "demo_2a()"
   ]
  },
  {
   "cell_type": "markdown",
   "metadata": {},
   "source": [
    "Similarly, matrices and vectors"
   ]
  },
  {
   "cell_type": "code",
   "execution_count": 8,
   "metadata": {},
   "outputs": [
    {
     "data": {
      "text/latex": [
       "$\\displaystyle \\left[\\begin{matrix}1 & 2\\\\3 & 4\\end{matrix}\\right]$"
      ],
      "text/plain": [
       "⎡1  2⎤\n",
       "⎢    ⎥\n",
       "⎣3  4⎦"
      ]
     },
     "metadata": {},
     "output_type": "display_data"
    },
    {
     "data": {
      "text/latex": [
       "$\\displaystyle \\left[\\begin{matrix}1\\\\1\\end{matrix}\\right]$"
      ],
      "text/plain": [
       "⎡1⎤\n",
       "⎢ ⎥\n",
       "⎣1⎦"
      ]
     },
     "metadata": {},
     "output_type": "display_data"
    },
    {
     "data": {
      "text/latex": [
       "$\\displaystyle \\left[\\begin{matrix}3\\\\7\\end{matrix}\\right]$"
      ],
      "text/plain": [
       "⎡3⎤\n",
       "⎢ ⎥\n",
       "⎣7⎦"
      ]
     },
     "metadata": {},
     "output_type": "display_data"
    }
   ],
   "source": [
    "def demo_2b():\n",
    "    \n",
    "    matrix = sympy.Matrix([[1,2],[3,4]])\n",
    "    vector = sympy.Matrix([1,1])\n",
    "    display(matrix)\n",
    "    display(vector)\n",
    "    display(matrix*vector)\n",
    "demo_2b()"
   ]
  },
  {
   "cell_type": "markdown",
   "metadata": {},
   "source": [
    "When multiplying vectors, and order and orientation is important"
   ]
  },
  {
   "cell_type": "code",
   "execution_count": 9,
   "metadata": {},
   "outputs": [
    {
     "data": {
      "text/latex": [
       "$\\displaystyle \\left[\\begin{matrix}1\\\\2\\end{matrix}\\right]$"
      ],
      "text/plain": [
       "⎡1⎤\n",
       "⎢ ⎥\n",
       "⎣2⎦"
      ]
     },
     "metadata": {},
     "output_type": "display_data"
    },
    {
     "data": {
      "text/latex": [
       "$\\displaystyle \\left[\\begin{matrix}3\\\\4\\end{matrix}\\right]$"
      ],
      "text/plain": [
       "⎡3⎤\n",
       "⎢ ⎥\n",
       "⎣4⎦"
      ]
     },
     "metadata": {},
     "output_type": "display_data"
    },
    {
     "data": {
      "text/latex": [
       "$\\displaystyle \\left[\\begin{matrix}11\\end{matrix}\\right]$"
      ],
      "text/plain": [
       "[11]"
      ]
     },
     "metadata": {},
     "output_type": "display_data"
    },
    {
     "data": {
      "text/latex": [
       "$\\displaystyle \\left[\\begin{matrix}3 & 4\\\\6 & 8\\end{matrix}\\right]$"
      ],
      "text/plain": [
       "⎡3  4⎤\n",
       "⎢    ⎥\n",
       "⎣6  8⎦"
      ]
     },
     "metadata": {},
     "output_type": "display_data"
    }
   ],
   "source": [
    "def demo_1c():\n",
    "    \n",
    "    vector_a = sympy.Matrix([1,2])\n",
    "    vector_b = sympy.Matrix([3,4])\n",
    "    display(vector_a)\n",
    "    display(vector_b)\n",
    "    display(vector_a.transpose()*vector_b)\n",
    "    display(vector_a*vector_b.transpose())\n",
    "demo_1c()"
   ]
  },
  {
   "cell_type": "markdown",
   "metadata": {},
   "source": [
    "__Exercise a__\n",
    "\n",
    "Calculate the product $R \\cdot b$ where $R$ is the 2D rotation matrix and $b = [1,0]$"
   ]
  },
  {
   "cell_type": "code",
   "execution_count": 10,
   "metadata": {},
   "outputs": [
    {
     "data": {
      "text/latex": [
       "$\\displaystyle \\left[\\begin{matrix}\\cos{\\left(\\theta \\right)} & - \\sin{\\left(\\theta \\right)}\\\\\\sin{\\left(\\theta \\right)} & \\cos{\\left(\\theta \\right)}\\end{matrix}\\right]$"
      ],
      "text/plain": [
       "⎡cos(θ)  -sin(θ)⎤\n",
       "⎢               ⎥\n",
       "⎣sin(θ)  cos(θ) ⎦"
      ]
     },
     "metadata": {},
     "output_type": "display_data"
    },
    {
     "data": {
      "text/latex": [
       "$\\displaystyle \\left[\\begin{matrix}1\\\\0\\end{matrix}\\right]$"
      ],
      "text/plain": [
       "⎡1⎤\n",
       "⎢ ⎥\n",
       "⎣0⎦"
      ]
     },
     "metadata": {},
     "output_type": "display_data"
    },
    {
     "data": {
      "image/png": "[encoded data removed]",
      "text/latex": [
       "$\\displaystyle 0$"
      ],
      "text/plain": [
       "0"
      ]
     },
     "metadata": {},
     "output_type": "display_data"
    },
    {
     "name": "stdout",
     "output_type": "stream",
     "text": [
      "False\n"
     ]
    }
   ],
   "source": [
    "def exercise_2a():\n",
    "    \n",
    "    q = sympy.Symbol('theta', positive=True)# Rotation angle\n",
    "    b = sympy.Matrix([1,0])\n",
    "    R = sympy.Matrix([[sympy.cos(q), -sympy.sin(q)],[sympy.sin(q), sympy.cos(q)]])\n",
    "    display(R,b)\n",
    "    \n",
    "    # Enter answer here\n",
    "    answer = 0\n",
    "    display(answer)\n",
    "    print(verify_3.verify_2a(answer))\n",
    "exercise_2a()"
   ]
  },
  {
   "cell_type": "markdown",
   "metadata": {},
   "source": [
    "# Section 3 - Inversion and Null Spaces"
   ]
  },
  {
   "cell_type": "markdown",
   "metadata": {},
   "source": [
    "To get the matrix use .inv()"
   ]
  },
  {
   "cell_type": "code",
   "execution_count": 11,
   "metadata": {},
   "outputs": [
    {
     "data": {
      "text/latex": [
       "$\\displaystyle \\left[\\begin{matrix}1 & 2\\\\3 & 4\\end{matrix}\\right]$"
      ],
      "text/plain": [
       "⎡1  2⎤\n",
       "⎢    ⎥\n",
       "⎣3  4⎦"
      ]
     },
     "metadata": {},
     "output_type": "display_data"
    },
    {
     "data": {
      "text/latex": [
       "$\\displaystyle \\left[\\begin{matrix}-2 & 1\\\\\\frac{3}{2} & - \\frac{1}{2}\\end{matrix}\\right]$"
      ],
      "text/plain": [
       "⎡-2    1  ⎤\n",
       "⎢         ⎥\n",
       "⎣3/2  -1/2⎦"
      ]
     },
     "metadata": {},
     "output_type": "display_data"
    }
   ],
   "source": [
    "def demo_3a():\n",
    "    \n",
    "    matrix = sympy.Matrix([[1,2],[3,4]])\n",
    "    display(matrix)\n",
    "    display(matrix.inv())\n",
    "demo_3a()"
   ]
  },
  {
   "cell_type": "markdown",
   "metadata": {},
   "source": [
    "__Exercise a__\n",
    "\n",
    "Solve the following system of equations $A \\cdot x = b$"
   ]
  },
  {
   "cell_type": "code",
   "execution_count": 12,
   "metadata": {},
   "outputs": [
    {
     "name": "stdout",
     "output_type": "stream",
     "text": [
      "False\n"
     ]
    }
   ],
   "source": [
    "def exercise_3a():\n",
    "    \n",
    "    A = sympy.Matrix([[1,2],[3,4]])\n",
    "    b = sympy.Matrix([5,6])\n",
    "    \n",
    "    sol = 0\n",
    "    print(verify_3.verify_3a(sol))\n",
    "exercise_3a()"
   ]
  },
  {
   "cell_type": "markdown",
   "metadata": {},
   "source": [
    "If the matrix is not invertible, we can find its null space"
   ]
  },
  {
   "cell_type": "code",
   "execution_count": 13,
   "metadata": {},
   "outputs": [
    {
     "data": {
      "text/latex": [
       "$\\displaystyle \\left[\\begin{matrix}1 & 1\\\\1 & 1\\end{matrix}\\right]$"
      ],
      "text/plain": [
       "⎡1  1⎤\n",
       "⎢    ⎥\n",
       "⎣1  1⎦"
      ]
     },
     "metadata": {},
     "output_type": "display_data"
    },
    {
     "data": {
      "text/latex": [
       "$\\displaystyle \\left[ \\left[\\begin{matrix}-1\\\\1\\end{matrix}\\right]\\right]$"
      ],
      "text/plain": [
       "⎡⎡-1⎤⎤\n",
       "⎢⎢  ⎥⎥\n",
       "⎣⎣1 ⎦⎦"
      ]
     },
     "metadata": {},
     "output_type": "display_data"
    }
   ],
   "source": [
    "def demo_3b():\n",
    "    \n",
    "    matrix = sympy.Matrix([[1,1],[1,1]])\n",
    "    display(matrix)\n",
    "    display(matrix.nullspace())\n",
    "demo_3b()"
   ]
  },
  {
   "cell_type": "markdown",
   "metadata": {},
   "source": [
    "# Section 4 - Determinant"
   ]
  },
  {
   "cell_type": "markdown",
   "metadata": {},
   "source": [
    "Taking the determinant"
   ]
  },
  {
   "cell_type": "code",
   "execution_count": 14,
   "metadata": {},
   "outputs": [
    {
     "data": {
      "text/latex": [
       "$\\displaystyle \\left[\\begin{matrix}1 & 2\\\\3 & 4\\end{matrix}\\right]$"
      ],
      "text/plain": [
       "⎡1  2⎤\n",
       "⎢    ⎥\n",
       "⎣3  4⎦"
      ]
     },
     "metadata": {},
     "output_type": "display_data"
    },
    {
     "data": {
      "image/png": "[encoded data removed]",
      "text/latex": [
       "$\\displaystyle -2$"
      ],
      "text/plain": [
       "-2"
      ]
     },
     "metadata": {},
     "output_type": "display_data"
    }
   ],
   "source": [
    "def demo_4a():\n",
    "    \n",
    "    matrix = sympy.Matrix([[1,2],[3,4]])\n",
    "    display(matrix)\n",
    "    display(matrix.det())\n",
    "demo_4a()"
   ]
  },
  {
   "cell_type": "markdown",
   "metadata": {},
   "source": [
    "__Exercise a__\n",
    "\n",
    "Find x for which the following matrix is singular"
   ]
  },
  {
   "cell_type": "code",
   "execution_count": 3,
   "metadata": {},
   "outputs": [
    {
     "name": "stdout",
     "output_type": "stream",
     "text": [
      "False\n"
     ]
    }
   ],
   "source": [
    "def exercise_4a():\n",
    "    \n",
    "    x = sympy.Symbol('x', positive=True)\n",
    "    matrix = sympy.Matrix([[1,2-x],[3,4]])\n",
    "    \n",
    "    answer = 0\n",
    "    print(verify_3.verify_4a(answer))\n",
    "    \n",
    "exercise_4a()"
   ]
  },
  {
   "cell_type": "markdown",
   "metadata": {},
   "source": [
    "# Section 5 - Eigenvalue system"
   ]
  },
  {
   "cell_type": "markdown",
   "metadata": {},
   "source": [
    "To find the eigenvalues"
   ]
  },
  {
   "cell_type": "code",
   "execution_count": 16,
   "metadata": {},
   "outputs": [
    {
     "data": {
      "image/png": "[encoded data removed]",
      "text/latex": [
       "$\\displaystyle \\left\\{ \\frac{5}{2} - \\frac{\\sqrt{33}}{2} : 1, \\  \\frac{5}{2} + \\frac{\\sqrt{33}}{2} : 1\\right\\}$"
      ],
      "text/plain": [
       "⎧5   √33     5   √33   ⎫\n",
       "⎨─ - ───: 1, ─ + ───: 1⎬\n",
       "⎩2    2      2    2    ⎭"
      ]
     },
     "metadata": {},
     "output_type": "display_data"
    }
   ],
   "source": [
    "def demo_5a():\n",
    "    \n",
    "    matrix = sympy.Matrix([[1,2],[3,4]])\n",
    "    display(matrix.eigenvals())\n",
    "\n",
    "demo_5a()"
   ]
  },
  {
   "cell_type": "markdown",
   "metadata": {},
   "source": [
    "The first number is the eigenvalue, and the second number is the multiplicity."
   ]
  },
  {
   "cell_type": "markdown",
   "metadata": {},
   "source": [
    "To get the eigenvectors"
   ]
  },
  {
   "cell_type": "code",
   "execution_count": 17,
   "metadata": {},
   "outputs": [
    {
     "data": {
      "text/latex": [
       "$\\displaystyle \\left[ \\left( \\frac{5}{2} - \\frac{\\sqrt{33}}{2}, \\  1, \\  \\left[ \\left[\\begin{matrix}- \\frac{2}{- \\frac{3}{2} + \\frac{\\sqrt{33}}{2}}\\\\1\\end{matrix}\\right]\\right]\\right), \\  \\left( \\frac{5}{2} + \\frac{\\sqrt{33}}{2}, \\  1, \\  \\left[ \\left[\\begin{matrix}- \\frac{2}{- \\frac{\\sqrt{33}}{2} - \\frac{3}{2}}\\\\1\\end{matrix}\\right]\\right]\\right)\\right]$"
      ],
      "text/plain": [
       "⎡⎛            ⎡⎡   -2    ⎤⎤⎞  ⎛            ⎡⎡   -2    ⎤⎤⎞⎤\n",
       "⎢⎜            ⎢⎢─────────⎥⎥⎟  ⎜            ⎢⎢─────────⎥⎥⎟⎥\n",
       "⎢⎜5   √33     ⎢⎢  3   √33⎥⎥⎟  ⎜5   √33     ⎢⎢  √33   3⎥⎥⎟⎥\n",
       "⎢⎜─ - ───, 1, ⎢⎢- ─ + ───⎥⎥⎟, ⎜─ + ───, 1, ⎢⎢- ─── - ─⎥⎥⎟⎥\n",
       "⎢⎜2    2      ⎢⎢  2    2 ⎥⎥⎟  ⎜2    2      ⎢⎢   2    2⎥⎥⎟⎥\n",
       "⎢⎜            ⎢⎢         ⎥⎥⎟  ⎜            ⎢⎢         ⎥⎥⎟⎥\n",
       "⎣⎝            ⎣⎣    1    ⎦⎦⎠  ⎝            ⎣⎣    1    ⎦⎦⎠⎦"
      ]
     },
     "metadata": {},
     "output_type": "display_data"
    }
   ],
   "source": [
    "def demo_5b():\n",
    "    \n",
    "    matrix = sympy.Matrix([[1,2],[3,4]])\n",
    "    display(matrix.eigenvects())\n",
    "\n",
    "demo_5b()"
   ]
  },
  {
   "cell_type": "markdown",
   "metadata": {},
   "source": [
    "In some cases it is also useful to find the characteristic polynomial"
   ]
  },
  {
   "cell_type": "code",
   "execution_count": 18,
   "metadata": {},
   "outputs": [
    {
     "data": {
      "image/png": "[encoded data removed]",
      "text/latex": [
       "$\\displaystyle \\operatorname{PurePoly}{\\left( x^{2} - 5 x - 2, x, domain=\\mathbb{Z} \\right)}$"
      ],
      "text/plain": [
       "PurePoly(x**2 - 5*x - 2, x, domain='ZZ')"
      ]
     },
     "metadata": {},
     "output_type": "display_data"
    }
   ],
   "source": [
    "def demo_5c():\n",
    "    \n",
    "    x = sympy.Symbol('x')\n",
    "    matrix = sympy.Matrix([[1,2],[3,4]])\n",
    "    display(matrix.charpoly('x'))\n",
    "demo_5c()"
   ]
  },
  {
   "cell_type": "markdown",
   "metadata": {},
   "source": [
    "__Exercise a__\n",
    "\n",
    "A series of aligned point masses, with springs connecting the two adjacent pairs of masses. Their equations of motion can be described by \n",
    "\n",
    "$\\ddot{\\vec{x}} = \\vec{M} \\cdot \\vec{x}$. Find the eigensystem (eigenvectors + eigenvalues) for the matrix $M$. What does each of the modes represent?"
   ]
  },
  {
   "cell_type": "code",
   "execution_count": 19,
   "metadata": {},
   "outputs": [
    {
     "data": {
      "text/latex": [
       "$\\displaystyle \\left[ \\left( -3, \\  1, \\  \\left[ \\left[\\begin{matrix}1\\\\-2\\\\1\\end{matrix}\\right]\\right]\\right), \\  \\left( -1, \\  1, \\  \\left[ \\left[\\begin{matrix}-1\\\\0\\\\1\\end{matrix}\\right]\\right]\\right), \\  \\left( 0, \\  1, \\  \\left[ \\left[\\begin{matrix}1\\\\1\\\\1\\end{matrix}\\right]\\right]\\right)\\right]$"
      ],
      "text/plain": [
       "⎡⎛       ⎡⎡1 ⎤⎤⎞  ⎛       ⎡⎡-1⎤⎤⎞  ⎛      ⎡⎡1⎤⎤⎞⎤\n",
       "⎢⎜       ⎢⎢  ⎥⎥⎟  ⎜       ⎢⎢  ⎥⎥⎟  ⎜      ⎢⎢ ⎥⎥⎟⎥\n",
       "⎢⎜-3, 1, ⎢⎢-2⎥⎥⎟, ⎜-1, 1, ⎢⎢0 ⎥⎥⎟, ⎜0, 1, ⎢⎢1⎥⎥⎟⎥\n",
       "⎢⎜       ⎢⎢  ⎥⎥⎟  ⎜       ⎢⎢  ⎥⎥⎟  ⎜      ⎢⎢ ⎥⎥⎟⎥\n",
       "⎣⎝       ⎣⎣1 ⎦⎦⎠  ⎝       ⎣⎣1 ⎦⎦⎠  ⎝      ⎣⎣1⎦⎦⎠⎦"
      ]
     },
     "metadata": {},
     "output_type": "display_data"
    },
    {
     "name": "stdout",
     "output_type": "stream",
     "text": [
      "False\n"
     ]
    }
   ],
   "source": [
    "def exercise_5a():\n",
    "    \n",
    "    M = sympy.Matrix([[-1,1,0],\n",
    "                      [1,-2,1],\n",
    "                      [0,1,-1]])\n",
    "    \n",
    "    display(M.eigenvects())\n",
    "    \n",
    "    answer = 0\n",
    "    print(verify_3.verify_5a(answer))\n",
    "exercise_5a()"
   ]
  },
  {
   "cell_type": "markdown",
   "metadata": {},
   "source": [
    "# Section 6 - Matrix functions"
   ]
  },
  {
   "cell_type": "markdown",
   "metadata": {},
   "source": [
    "sympy interprets functions on matrices as matrix functions (rather than operations on the "
   ]
  },
  {
   "cell_type": "code",
   "execution_count": 20,
   "metadata": {},
   "outputs": [
    {
     "data": {
      "text/latex": [
       "$\\displaystyle \\left[\\begin{matrix}0 & -1\\\\1 & 0\\end{matrix}\\right]$"
      ],
      "text/plain": [
       "⎡0  -1⎤\n",
       "⎢     ⎥\n",
       "⎣1  0 ⎦"
      ]
     },
     "metadata": {},
     "output_type": "display_data"
    },
    {
     "data": {
      "text/latex": [
       "$\\displaystyle \\left[\\begin{matrix}\\cos{\\left(1 \\right)} & - \\sin{\\left(1 \\right)}\\\\\\sin{\\left(1 \\right)} & \\cos{\\left(1 \\right)}\\end{matrix}\\right]$"
      ],
      "text/plain": [
       "⎡cos(1)  -sin(1)⎤\n",
       "⎢               ⎥\n",
       "⎣sin(1)  cos(1) ⎦"
      ]
     },
     "metadata": {},
     "output_type": "display_data"
    }
   ],
   "source": [
    "def demo_6a():\n",
    "    \n",
    "    matrix = sympy.Matrix([[0,-1],[1,0]])\n",
    "    display(matrix)\n",
    "    display(sympy.exp(matrix))\n",
    "    \n",
    "demo_6a()"
   ]
  },
  {
   "cell_type": "code",
   "execution_count": 21,
   "metadata": {},
   "outputs": [
    {
     "data": {
      "text/latex": [
       "$\\displaystyle \\left[\\begin{matrix}0 & -1\\\\1 & 0\\end{matrix}\\right]$"
      ],
      "text/plain": [
       "⎡0  -1⎤\n",
       "⎢     ⎥\n",
       "⎣1  0 ⎦"
      ]
     },
     "metadata": {},
     "output_type": "display_data"
    },
    {
     "data": {
      "text/latex": [
       "$\\displaystyle \\left[\\begin{matrix}-1 & 0\\\\0 & -1\\end{matrix}\\right]$"
      ],
      "text/plain": [
       "⎡-1  0 ⎤\n",
       "⎢      ⎥\n",
       "⎣0   -1⎦"
      ]
     },
     "metadata": {},
     "output_type": "display_data"
    }
   ],
   "source": [
    "def demo_6b():\n",
    "    \n",
    "    matrix = sympy.Matrix([[0,-1],[1,0]])\n",
    "    display(matrix)\n",
    "    display(matrix**2)\n",
    "    \n",
    "demo_6b()"
   ]
  },
  {
   "cell_type": "markdown",
   "metadata": {},
   "source": [
    "__Exercise a__\n",
    "\n",
    "In this problem we will explore the generator to the Lorentz boost. Calculate $\\exp \\left(\\psi Z\\right)$ ,where $Z$ is the anti diagonal unit matrix and $\\tanh \\psi = \\beta$ is the rapidity."
   ]
  },
  {
   "cell_type": "code",
   "execution_count": 22,
   "metadata": {},
   "outputs": [
    {
     "data": {
      "text/latex": [
       "$\\displaystyle \\left[\\begin{matrix}\\frac{e^{\\psi}}{2} + \\frac{e^{- \\psi}}{2} & - \\frac{e^{\\psi}}{2} + \\frac{e^{- \\psi}}{2}\\\\- \\frac{e^{\\psi}}{2} + \\frac{e^{- \\psi}}{2} & \\frac{e^{\\psi}}{2} + \\frac{e^{- \\psi}}{2}\\end{matrix}\\right]$"
      ],
      "text/plain": [
       "⎡  ψ    -ψ      ψ    -ψ⎤\n",
       "⎢ ℯ    ℯ       ℯ    ℯ  ⎥\n",
       "⎢ ── + ───   - ── + ───⎥\n",
       "⎢ 2     2      2     2 ⎥\n",
       "⎢                      ⎥\n",
       "⎢   ψ    -ψ    ψ    -ψ ⎥\n",
       "⎢  ℯ    ℯ     ℯ    ℯ   ⎥\n",
       "⎢- ── + ───   ── + ─── ⎥\n",
       "⎣  2     2    2     2  ⎦"
      ]
     },
     "metadata": {},
     "output_type": "display_data"
    },
    {
     "name": "stdout",
     "output_type": "stream",
     "text": [
      "False\n"
     ]
    }
   ],
   "source": [
    "def exercise_6a():\n",
    "    \n",
    "    psi = sympy.Symbol('psi', positive=True) # Rapidity\n",
    "    gen = sympy.Matrix([[0,-1],[-1,0]])\n",
    "    \n",
    "    # Enter anser here\n",
    "    temp = sympy.exp(psi*gen)\n",
    "    temp.simplify()\n",
    "    display(temp)\n",
    "    answer = sympy.Rational(0,1)\n",
    "    print(verify_3.verify_6a(answer))\n",
    "    \n",
    "exercise_6a()"
   ]
  },
  {
   "cell_type": "markdown",
   "metadata": {},
   "source": [
    "# Section 7 - Worked example"
   ]
  },
  {
   "cell_type": "markdown",
   "metadata": {},
   "source": [
    "## Tidal Field"
   ]
  },
  {
   "cell_type": "markdown",
   "metadata": {},
   "source": [
    "In this section we derive the tidal field of a point mass. Close to some distant point the potential behaves roughly as $\\varphi \\approx \\frac{1}{2} \\vec{x} T \\vec{x}$ where $T$ is the tidal tensor."
   ]
  },
  {
   "cell_type": "code",
   "execution_count": 23,
   "metadata": {},
   "outputs": [
    {
     "data": {
      "image/png": "[encoded data removed]",
      "text/latex": [
       "$\\displaystyle \\frac{G M}{\\sqrt{x^{2} + y^{2} + z^{2}}}$"
      ],
      "text/plain": [
       "       G⋅M       \n",
       "─────────────────\n",
       "   ______________\n",
       "  ╱  2    2    2 \n",
       "╲╱  x  + y  + z  "
      ]
     },
     "metadata": {},
     "output_type": "display_data"
    },
    {
     "data": {
      "text/latex": [
       "$\\displaystyle \\left[\\begin{matrix}\\frac{G M \\left(2 x^{2} - y^{2} - z^{2}\\right)}{\\left(x^{2} + y^{2} + z^{2}\\right)^{\\frac{5}{2}}} & \\frac{3 G M x y}{\\left(x^{2} + y^{2} + z^{2}\\right)^{\\frac{5}{2}}} & \\frac{3 G M x z}{\\left(x^{2} + y^{2} + z^{2}\\right)^{\\frac{5}{2}}}\\\\\\frac{3 G M x y}{\\left(x^{2} + y^{2} + z^{2}\\right)^{\\frac{5}{2}}} & \\frac{G M \\left(- x^{2} + 2 y^{2} - z^{2}\\right)}{\\left(x^{2} + y^{2} + z^{2}\\right)^{\\frac{5}{2}}} & \\frac{3 G M y z}{\\left(x^{2} + y^{2} + z^{2}\\right)^{\\frac{5}{2}}}\\\\\\frac{3 G M x z}{\\left(x^{2} + y^{2} + z^{2}\\right)^{\\frac{5}{2}}} & \\frac{3 G M y z}{\\left(x^{2} + y^{2} + z^{2}\\right)^{\\frac{5}{2}}} & \\frac{G M \\left(- x^{2} - y^{2} + 2 z^{2}\\right)}{\\left(x^{2} + y^{2} + z^{2}\\right)^{\\frac{5}{2}}}\\end{matrix}\\right]$"
      ],
      "text/plain": [
       "⎡    ⎛   2    2    2⎞                                                ⎤\n",
       "⎢G⋅M⋅⎝2⋅x  - y  - z ⎠        3⋅G⋅M⋅x⋅y               3⋅G⋅M⋅x⋅z       ⎥\n",
       "⎢────────────────────    ─────────────────       ─────────────────   ⎥\n",
       "⎢               5/2                    5/2                     5/2   ⎥\n",
       "⎢ ⎛ 2    2    2⎞         ⎛ 2    2    2⎞          ⎛ 2    2    2⎞      ⎥\n",
       "⎢ ⎝x  + y  + z ⎠         ⎝x  + y  + z ⎠          ⎝x  + y  + z ⎠      ⎥\n",
       "⎢                                                                    ⎥\n",
       "⎢                          ⎛   2      2    2⎞                        ⎥\n",
       "⎢     3⋅G⋅M⋅x⋅y        G⋅M⋅⎝- x  + 2⋅y  - z ⎠        3⋅G⋅M⋅y⋅z       ⎥\n",
       "⎢ ─────────────────    ──────────────────────    ─────────────────   ⎥\n",
       "⎢               5/2                    5/2                     5/2   ⎥\n",
       "⎢ ⎛ 2    2    2⎞         ⎛ 2    2    2⎞          ⎛ 2    2    2⎞      ⎥\n",
       "⎢ ⎝x  + y  + z ⎠         ⎝x  + y  + z ⎠          ⎝x  + y  + z ⎠      ⎥\n",
       "⎢                                                                    ⎥\n",
       "⎢                                                  ⎛   2    2      2⎞⎥\n",
       "⎢     3⋅G⋅M⋅x⋅z              3⋅G⋅M⋅y⋅z         G⋅M⋅⎝- x  - y  + 2⋅z ⎠⎥\n",
       "⎢ ─────────────────      ─────────────────     ──────────────────────⎥\n",
       "⎢               5/2                    5/2                     5/2   ⎥\n",
       "⎢ ⎛ 2    2    2⎞         ⎛ 2    2    2⎞          ⎛ 2    2    2⎞      ⎥\n",
       "⎣ ⎝x  + y  + z ⎠         ⎝x  + y  + z ⎠          ⎝x  + y  + z ⎠      ⎦"
      ]
     },
     "metadata": {},
     "output_type": "display_data"
    }
   ],
   "source": [
    "def demo_7a():\n",
    "    \n",
    "    x = sympy.Symbol('x', real=True)\n",
    "    y = sympy.Symbol('y', real=True)\n",
    "    z = sympy.Symbol('z', real=True)\n",
    "    G = sympy.Symbol('G', positive=True) # Gravitation constant\n",
    "    M = sympy.Symbol('M', positive=True) # Mass\n",
    "    a = sympy.Symbol('a', positive=True) # Distance\n",
    "    \n",
    "    potential = G*M/sympy.sqrt(x**2+y**2+z**2)\n",
    "    \n",
    "    display(potential)\n",
    "    \n",
    "    hessian = sympy.Matrix([[potential.diff(var1).diff(var2).simplify()\n",
    "                             for var1 in [x,y,z]] for var2 in [x,y,z]])\n",
    "    \n",
    "    display(hessian)\n",
    "    \n",
    "demo_7a()"
   ]
  },
  {
   "cell_type": "markdown",
   "metadata": {},
   "source": [
    "## Two Body Problem"
   ]
  },
  {
   "cell_type": "code",
   "execution_count": 24,
   "metadata": {},
   "outputs": [
    {
     "name": "stdout",
     "output_type": "stream",
     "text": [
      "conservation of angular momentum\n"
     ]
    },
    {
     "data": {
      "image/png": "[encoded data removed]",
      "text/latex": [
       "$\\displaystyle - r{\\left(t \\right)} \\frac{d^{2}}{d t^{2}} \\theta{\\left(t \\right)} - 2 \\frac{d}{d t} r{\\left(t \\right)} \\frac{d}{d t} \\theta{\\left(t \\right)}$"
      ],
      "text/plain": [
       "         2                            \n",
       "        d            d        d       \n",
       "- r(t)⋅───(θ(t)) - 2⋅──(r(t))⋅──(θ(t))\n",
       "         2           dt       dt      \n",
       "       dt                             "
      ]
     },
     "metadata": {},
     "output_type": "display_data"
    },
    {
     "data": {
      "image/png": "[encoded data removed]",
      "text/latex": [
       "$\\displaystyle 0$"
      ],
      "text/plain": [
       "0"
      ]
     },
     "metadata": {},
     "output_type": "display_data"
    },
    {
     "name": "stdout",
     "output_type": "stream",
     "text": [
      "conservation of the LRL vector\n"
     ]
    },
    {
     "data": {
      "text/latex": [
       "$\\displaystyle \\left[\\begin{matrix}- G M \\cos{\\left(\\theta{\\left(t \\right)} \\right)} + l r{\\left(t \\right)} \\cos{\\left(\\theta{\\left(t \\right)} \\right)} \\frac{d}{d t} \\theta{\\left(t \\right)} + l \\sin{\\left(\\theta{\\left(t \\right)} \\right)} \\frac{d}{d t} r{\\left(t \\right)}\\\\- G M \\sin{\\left(\\theta{\\left(t \\right)} \\right)} + l r{\\left(t \\right)} \\sin{\\left(\\theta{\\left(t \\right)} \\right)} \\frac{d}{d t} \\theta{\\left(t \\right)} - l \\cos{\\left(\\theta{\\left(t \\right)} \\right)} \\frac{d}{d t} r{\\left(t \\right)}\\end{matrix}\\right]$"
      ],
      "text/plain": [
       "⎡                                  d                      d       ⎤\n",
       "⎢-G⋅M⋅cos(θ(t)) + l⋅r(t)⋅cos(θ(t))⋅──(θ(t)) + l⋅sin(θ(t))⋅──(r(t))⎥\n",
       "⎢                                  dt                     dt      ⎥\n",
       "⎢                                                                 ⎥\n",
       "⎢                                  d                      d       ⎥\n",
       "⎢-G⋅M⋅sin(θ(t)) + l⋅r(t)⋅sin(θ(t))⋅──(θ(t)) - l⋅cos(θ(t))⋅──(r(t))⎥\n",
       "⎣                                  dt                     dt      ⎦"
      ]
     },
     "metadata": {},
     "output_type": "display_data"
    },
    {
     "data": {
      "text/latex": [
       "$\\displaystyle \\left[\\begin{matrix}\\frac{G M l \\left(r{\\left(t \\right)} - \\left|{r{\\left(t \\right)}}\\right|\\right) \\sin{\\left(\\theta{\\left(t \\right)} \\right)}}{r^{3}{\\left(t \\right)}}\\\\\\frac{G M l \\left(- r{\\left(t \\right)} + \\left|{r{\\left(t \\right)}}\\right|\\right) \\cos{\\left(\\theta{\\left(t \\right)} \\right)}}{r^{3}{\\left(t \\right)}}\\end{matrix}\\right]$"
      ],
      "text/plain": [
       "⎡G⋅M⋅l⋅(r(t) - │r(t)│)⋅sin(θ(t)) ⎤\n",
       "⎢─────────────────────────────── ⎥\n",
       "⎢              3                 ⎥\n",
       "⎢             r (t)              ⎥\n",
       "⎢                                ⎥\n",
       "⎢G⋅M⋅l⋅(-r(t) + │r(t)│)⋅cos(θ(t))⎥\n",
       "⎢────────────────────────────────⎥\n",
       "⎢              3                 ⎥\n",
       "⎣             r (t)              ⎦"
      ]
     },
     "metadata": {},
     "output_type": "display_data"
    },
    {
     "name": "stdout",
     "output_type": "stream",
     "text": [
      "trajectory\n"
     ]
    },
    {
     "data": {
      "image/png": "[encoded data removed]",
      "text/latex": [
       "$\\displaystyle \\frac{1}{C_{2} \\cos{\\left(\\theta \\right)} + \\frac{G M}{l^{2}}}$"
      ],
      "text/plain": [
       "       1       \n",
       "───────────────\n",
       "            G⋅M\n",
       "C₂⋅cos(θ) + ───\n",
       "              2\n",
       "             l "
      ]
     },
     "metadata": {},
     "output_type": "display_data"
    },
    {
     "data": {
      "image/png": "[encoded data removed]",
      "text/latex": [
       "$\\displaystyle \\frac{1}{\\frac{G M}{l^{2}} + \\frac{\\sqrt{G^{2} M^{2} + 2 l^{2} u} \\cos{\\left(\\theta \\right)}}{l^{2}}}$"
      ],
      "text/plain": [
       "               1                \n",
       "────────────────────────────────\n",
       "         ________________       \n",
       "        ╱  2  2      2          \n",
       "G⋅M   ╲╱  G ⋅M  + 2⋅l ⋅u ⋅cos(θ)\n",
       "─── + ──────────────────────────\n",
       "  2                2            \n",
       " l                l             "
      ]
     },
     "metadata": {},
     "output_type": "display_data"
    }
   ],
   "source": [
    "def demo_7b():\n",
    "    \n",
    "    r = sympy.Function('r', positive=True)\n",
    "    s = sympy.Function('s', positive=True)\n",
    "    qf = sympy.Function('theta', real=True)\n",
    "    q = sympy.Symbol('theta', real=True)\n",
    "    t = sympy.Symbol('t', real=True)\n",
    "    pos = sympy.Matrix([r(t)*sympy.cos(qf(t)),r(t)*sympy.sin(qf(t))])\n",
    "    G = sympy.Symbol('G', positive=True) # Gravitation constant\n",
    "    M = sympy.Symbol('M', positive=True) # Mass\n",
    "    l = sympy.Symbol('l', positive=True) # Angular momentum\n",
    "    u = sympy.Symbol('u', real=True) # Energy\n",
    "    xi = sympy.Symbol('xi', positive=True) # Auxiliary variable\n",
    "    energy = -G*M/r(t)+(r(t).diff(t)**2+qf(t).diff(t)**2*r(t)**2)/2-u\n",
    "    eom = pos.diff(t,2)+G*M*pos/(pos.transpose()*pos)**sympy.Rational(3,2)\n",
    "    \n",
    "    v = pos.diff(t)\n",
    "    LRL = l*sympy.Matrix([v[1],-v[0]])-G*M*pos/sympy.sqrt((pos.transpose()*pos)[0])\n",
    "    LRL = sympy.Matrix([LRL[0].simplify(), LRL[1].simplify()])\n",
    "    LRL = LRL.subs(r(t),xi).subs(xi,r(t))\n",
    "    \n",
    "    print('conservation of angular momentum')\n",
    "    temp = eom.transpose()*sympy.Matrix([sympy.sin(qf(t)), -sympy.cos(qf(t))])\n",
    "    temp = temp[0].simplify()\n",
    "    display(temp)\n",
    "    temp = (r(t)**2*qf(t).diff(t)).diff(t).subs(sympy.solve(temp,qf(t).diff(t,2),dict=True)[0])\n",
    "    display(temp)\n",
    "    \n",
    "    print('conservation of the LRL vector')\n",
    "    temp = LRL\n",
    "    display(LRL)\n",
    "    temp = temp.diff(t)    \n",
    "    temp = temp.subs(sympy.solve(eom,[r(t).diff(t,2), qf(t).diff(t,2)],dict=True)[0])\n",
    "    temp = temp.subs(qf(t).diff(t),l/r(t)**2)\n",
    "    temp = sympy.Matrix([temp[0].simplify(), temp[1].simplify()])\n",
    "    display(temp)\n",
    "    \n",
    "    print('trajectory')\n",
    "    temp = energy\n",
    "    temp = temp.subs(r(t).diff(t), r(q).diff(q)*qf(t).diff(t))\n",
    "    temp = temp.subs(qf(t).diff(t), l/r(q)**2)\n",
    "    temp = temp.subs(r(t), r(q))\n",
    "    energy_r_q = temp\n",
    "    temp = temp.subs(r(q),1/s(q))\n",
    "    temp = temp.doit()\n",
    "    temp = temp.diff(q)\n",
    "    temp = temp/s(q).diff(q)\n",
    "    temp = temp.simplify()\n",
    "    temp = sympy.dsolve(temp,s(q))\n",
    "    temp = 1/sympy.solve(temp,s(q))[0]\n",
    "    temp = temp.subs(sympy.solve(temp.diff(q).subs(q,0),sympy.Symbol('C1'),dict=True)[0])\n",
    "    display(temp)\n",
    "    temp = temp.subs(sympy.solve(energy_r_q.subs(r(q),temp).doit(),sympy.Symbol('C2'),dict=True)[1])\n",
    "    display(temp)\n",
    "    \n",
    "demo_7b()"
   ]
  },
  {
   "cell_type": "markdown",
   "metadata": {},
   "source": [
    "## Sound Waves"
   ]
  },
  {
   "cell_type": "code",
   "execution_count": 25,
   "metadata": {
    "scrolled": true
   },
   "outputs": [
    {
     "name": "stdout",
     "output_type": "stream",
     "text": [
      "equations of motion\n"
     ]
    },
    {
     "data": {
      "image/png": "[encoded data removed]",
      "text/latex": [
       "$\\displaystyle \\left[ \\frac{d}{d x} J + \\frac{d}{d t} \\rho, \\  v \\frac{d}{d x} v + \\frac{d}{d t} v + \\frac{\\frac{d}{d x} p}{\\rho}, \\  v \\frac{d}{d x} s + \\frac{d}{d t} s\\right]$"
      ],
      "text/plain": [
       "⎡                                 d                     ⎤\n",
       "⎢                                 ──(p)                 ⎥\n",
       "⎢d       d        d       d       dx       d       d    ⎥\n",
       "⎢──(J) + ──(ρ), v⋅──(v) + ──(v) + ─────, v⋅──(s) + ──(s)⎥\n",
       "⎣dx      dt       dx      dt        ρ      dx      dt   ⎦"
      ]
     },
     "metadata": {},
     "output_type": "display_data"
    },
    {
     "name": "stdout",
     "output_type": "stream",
     "text": [
      "Solutions are only possible if this matrix is singular\n"
     ]
    },
    {
     "data": {
      "text/latex": [
       "$\\displaystyle \\left[\\begin{matrix}i \\omega & 0 & - \\frac{i \\gamma \\omega}{\\rho_{0}}\\\\0 & - \\frac{i k}{\\rho_{0}} & \\frac{i \\omega}{p_{0}}\\\\- i k \\rho_{0} & i \\omega & 0\\end{matrix}\\right]$"
      ],
      "text/plain": [
       "⎡                -ⅈ⋅γ⋅ω ⎤\n",
       "⎢  ⅈ⋅ω      0    ───────⎥\n",
       "⎢                   ρ₀  ⎥\n",
       "⎢                       ⎥\n",
       "⎢         -ⅈ⋅k     ⅈ⋅ω  ⎥\n",
       "⎢   0     ─────    ───  ⎥\n",
       "⎢           ρ₀      p₀  ⎥\n",
       "⎢                       ⎥\n",
       "⎣-ⅈ⋅k⋅ρ₀   ⅈ⋅ω      0   ⎦"
      ]
     },
     "metadata": {},
     "output_type": "display_data"
    },
    {
     "name": "stdout",
     "output_type": "stream",
     "text": [
      "The determinant is\n"
     ]
    },
    {
     "data": {
      "image/png": "[encoded data removed]",
      "text/latex": [
       "$\\displaystyle - \\frac{i \\gamma k^{2} \\omega}{\\rho_{0}} + \\frac{i \\omega^{3}}{p_{0}}$"
      ],
      "text/plain": [
       "       2        3\n",
       "  ⅈ⋅γ⋅k ⋅ω   ⅈ⋅ω \n",
       "- ──────── + ────\n",
       "     ρ₀       p₀ "
      ]
     },
     "metadata": {},
     "output_type": "display_data"
    },
    {
     "name": "stdout",
     "output_type": "stream",
     "text": [
      "And the frequencies are\n"
     ]
    },
    {
     "data": {
      "image/png": "[encoded data removed]",
      "text/latex": [
       "$\\displaystyle \\left[ 0, \\  - \\frac{\\sqrt{\\gamma} k \\sqrt{p_{0}}}{\\sqrt{\\rho_{0}}}, \\  \\frac{\\sqrt{\\gamma} k \\sqrt{p_{0}}}{\\sqrt{\\rho_{0}}}\\right]$"
      ],
      "text/plain": [
       "⎡           ____          ____⎤\n",
       "⎢   -√γ⋅k⋅╲╱ p₀    √γ⋅k⋅╲╱ p₀ ⎥\n",
       "⎢0, ─────────────, ───────────⎥\n",
       "⎢         ____          ____  ⎥\n",
       "⎣       ╲╱ ρ₀         ╲╱ ρ₀   ⎦"
      ]
     },
     "metadata": {},
     "output_type": "display_data"
    },
    {
     "name": "stdout",
     "output_type": "stream",
     "text": [
      "These solutions represent a left going wave, a right going wave and a density perturbation that does not move\n"
     ]
    }
   ],
   "source": [
    "def demo_7c():\n",
    "    \n",
    "    x = sympy.Symbol('x', real=True) # Position\n",
    "    t = sympy.Symbol('t', real=True) # Time\n",
    "    rho = sympy.Symbol('rho') # Density\n",
    "    v = sympy.Symbol('v') # Velocity\n",
    "    p = sympy.Symbol('p') # Pressure\n",
    "    s = sympy.Symbol('s') # Entropy\n",
    "    J = sympy.Symbol('J') # Mass flux\n",
    "    xi = sympy.Symbol('xi') # Auxiliary variable\n",
    "    gamma = sympy.Symbol('gamma', positive=True) # Adiabatic index\n",
    "    \n",
    "    # Hydrodynamic equations\n",
    "    continuity_equation = sympy.Derivative(rho,t)+sympy.Derivative(J,x)\n",
    "    momentum_conservatoin = sympy.Derivative(v,t)+v*sympy.Derivative(v,x)+sympy.Derivative(p,x)/rho\n",
    "    entropy_conservation = sympy.Derivative(s,t)+v*sympy.Derivative(s,x)\n",
    "    hydro_eqns = [continuity_equation,\n",
    "                  momentum_conservatoin,\n",
    "                  entropy_conservation]\n",
    "    print('equations of motion')\n",
    "    display(hydro_eqns)\n",
    "    \n",
    "    # Perturbation\n",
    "    rho_0 = sympy.Symbol('rho_0', positive=True) # Ambient density\n",
    "    p_0 = sympy.Symbol('p_0', positive=True) # Ambient pressure\n",
    "    delta_rho = sympy.Symbol(r'\\delta \\rho', positive=True) # Density fluctuation amplitude\n",
    "    delta_p = sympy.Symbol(r'\\delta p', positive=True) # Pressure fluctuation amplitude\n",
    "    delta_v = sympy.Symbol(r'\\delta v', positive=True) # Velocity fluctuation amplitude\n",
    "    omega = sympy.Symbol('omega', real=True) # Frequency\n",
    "    k = sympy.Symbol('k', positive=True) # Wavenumber\n",
    "    epsilon = sympy.Symbol('epsilon') # Perturbative parameter\n",
    "    temp = hydro_eqns\n",
    "    mode = sympy.exp(sympy.I*(omega*t-k*x))\n",
    "    temp = [itm.subs({rho:rho_0 + epsilon*delta_rho*mode,\n",
    "                      p:p_0 + epsilon*delta_p*mode,\n",
    "                      v:epsilon*delta_v*mode,\n",
    "                      J:(rho_0 + epsilon*delta_rho*mode)*(epsilon*delta_v*mode), # sympy spoonfeed\n",
    "                      s:sympy.log(p_0 + epsilon*delta_p*mode) - gamma*sympy.log(rho_0 + epsilon*delta_rho*mode)}) \n",
    "            for itm in temp]\n",
    "    temp = [itm.doit() for itm in temp]\n",
    "    temp = [itm.diff(epsilon).subs(epsilon,0) for itm in temp]\n",
    "    temp = [itm/mode for itm in temp]\n",
    "    temp = [sympy.expand(itm) for itm in temp]\n",
    "    temp = sympy.Matrix([[itm.diff(var) for itm in temp] for var in [delta_rho, delta_p, delta_v]])\n",
    "    print('Solutions are only possible if this matrix is singular')\n",
    "    display(temp)\n",
    "    print('The determinant is')\n",
    "    temp = temp.det().simplify()\n",
    "    display(temp)\n",
    "    print('And the frequencies are')\n",
    "    display(sympy.solve(temp,omega))\n",
    "    print('These solutions represent a left going wave, a right going wave and a density perturbation that does not move')\n",
    "    \n",
    "demo_7c()"
   ]
  },
  {
   "cell_type": "code",
   "execution_count": null,
   "metadata": {},
   "outputs": [],
   "source": []
  }
 ],
 "metadata": {
  "kernelspec": {
   "display_name": "Python 3",
   "language": "python",
   "name": "python3"
  },
  "language_info": {
   "codemirror_mode": {
    "name": "ipython",
    "version": 3
   },
   "file_extension": ".py",
   "mimetype": "text/x-python",
   "name": "python",
   "nbconvert_exporter": "python",
   "pygments_lexer": "ipython3",
   "version": "3.7.1"
  }
 },
 "nbformat": 4,
 "nbformat_minor": 2
}
